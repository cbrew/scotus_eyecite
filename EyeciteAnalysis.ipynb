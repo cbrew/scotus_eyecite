{
 "cells": [
  {
   "cell_type": "code",
   "execution_count": 1,
   "id": "initial_id",
   "metadata": {
    "collapsed": true,
    "ExecuteTime": {
     "end_time": "2024-02-20T13:07:41.704784Z",
     "start_time": "2024-02-20T13:07:39.421732Z"
    }
   },
   "outputs": [],
   "source": [
    "import pandas as pd\n",
    "import json"
   ]
  },
  {
   "cell_type": "code",
   "outputs": [],
   "source": [
    "df_train = pd.read_parquet('scotus_eyecite_train.pqt')"
   ],
   "metadata": {
    "collapsed": false,
    "ExecuteTime": {
     "end_time": "2024-02-20T13:39:10.941481Z",
     "start_time": "2024-02-20T13:39:10.690180Z"
    }
   },
   "id": "dddb5681f86c98a0",
   "execution_count": 9
  },
  {
   "cell_type": "code",
   "outputs": [
    {
     "data": {
      "text/plain": "0       [{\"volume\": \"329\", \"reporter\": \"U.S.\", \"page\":...\n1       [{\"volume\": \"329\", \"reporter\": \"U.S.\", \"page\":...\n2       [{\"volume\": \"329\", \"reporter\": \"U.S.\", \"page\":...\n3       [{\"volume\": \"329\", \"reporter\": \"U.S.\", \"page\":...\n4       [{\"volume\": \"329\", \"reporter\": \"U.S.\", \"page\":...\n                              ...                        \n4995    [{\"volume\": \"459\", \"reporter\": \"U.S.\", \"page\":...\n4996    [{\"volume\": \"459\", \"reporter\": \"U.S.\", \"page\":...\n4997    [{\"volume\": \"459\", \"reporter\": \"U.S.\", \"page\":...\n4998    [{\"volume\": \"459\", \"reporter\": \"U.S.\", \"page\":...\n4999    [{\"volume\": \"459\", \"reporter\": \"U.S.\", \"page\":...\nName: spans, Length: 5000, dtype: object"
     },
     "execution_count": 10,
     "metadata": {},
     "output_type": "execute_result"
    }
   ],
   "source": [
    "\n",
    "df_train['spans']"
   ],
   "metadata": {
    "collapsed": false,
    "ExecuteTime": {
     "end_time": "2024-02-20T13:39:12.695327Z",
     "start_time": "2024-02-20T13:39:12.678485Z"
    }
   },
   "id": "f26c0b46a60fab64",
   "execution_count": 10
  },
  {
   "cell_type": "code",
   "outputs": [],
   "source": [
    "\n",
    "def check_groups(row):\n",
    "    groups = json.loads(row['groups'])\n",
    "    spans = json.loads(row['spans'])\n",
    "    def check_span(start,end,groups):\n",
    "        for group in groups:\n",
    "            for item in group:\n",
    "                if item['start'] == start and item['end'] == end:\n",
    "                    return True\n",
    "        return False\n",
    "    for span in spans:\n",
    "        start = span['start']\n",
    "        end = span['end']\n",
    "        assert check_span(start, end,groups),span\n",
    "\n",
    "\n",
    "def check_groups_inside_allowed(row):\n",
    "    groups = json.loads(row['groups'])\n",
    "    spans = json.loads(row['spans'])\n",
    "    def check_span(start,end,groups):\n",
    "        for group in groups:\n",
    "            for item in group:\n",
    "                if item['start'] <= start and item['end'] >= end:\n",
    "                    return True\n",
    "        return False\n",
    "    for span in spans:\n",
    "        start = span['start']\n",
    "        end = span['end']\n",
    "        assert check_span(start, end,groups),span\n",
    "\n"
   ],
   "metadata": {
    "collapsed": false,
    "ExecuteTime": {
     "end_time": "2024-02-20T15:14:27.385659Z",
     "start_time": "2024-02-20T15:14:27.369139Z"
    }
   },
   "id": "59f17bc1bb71932d",
   "execution_count": 36
  },
  {
   "cell_type": "code",
   "outputs": [],
   "source": [
    "spans = json.loads(df_train.iloc[0]['spans'])\n",
    "groups = json.loads(df_train.iloc[0]['groups'])\n",
    "text = df_train.iloc[0]['text']\n"
   ],
   "metadata": {
    "collapsed": false,
    "ExecuteTime": {
     "end_time": "2024-02-20T15:14:31.332936Z",
     "start_time": "2024-02-20T15:14:31.317317Z"
    }
   },
   "id": "403e6b70ccf887fa",
   "execution_count": 37
  },
  {
   "cell_type": "code",
   "outputs": [],
   "source": [
    "import eyecite\n",
    "import eyecite.models\n",
    "citations = eyecite.get_citations(text)"
   ],
   "metadata": {
    "collapsed": false,
    "ExecuteTime": {
     "end_time": "2024-02-20T15:17:35.197117Z",
     "start_time": "2024-02-20T15:17:35.143141Z"
    }
   },
   "id": "8c6c51ac320aab6a",
   "execution_count": 42
  },
  {
   "cell_type": "code",
   "outputs": [
    {
     "data": {
      "text/plain": "65"
     },
     "execution_count": 43,
     "metadata": {},
     "output_type": "execute_result"
    }
   ],
   "source": [
    "len(citations)"
   ],
   "metadata": {
    "collapsed": false,
    "ExecuteTime": {
     "end_time": "2024-02-20T15:17:37.071036Z",
     "start_time": "2024-02-20T15:17:37.053069Z"
    }
   },
   "id": "2f6ac0e03dee92bb",
   "execution_count": 43
  },
  {
   "cell_type": "code",
   "outputs": [],
   "source": [
    "unknown_citations = [c for c in citations if isinstance(c,eyecite.models.UnknownCitation)]\n",
    "known_citations = [c for c in citations if not isinstance(c,eyecite.models.UnknownCitation)]\n"
   ],
   "metadata": {
    "collapsed": false,
    "ExecuteTime": {
     "end_time": "2024-02-20T15:19:07.818411Z",
     "start_time": "2024-02-20T15:19:07.799319Z"
    }
   },
   "id": "28a59b846544fd07",
   "execution_count": 49
  },
  {
   "cell_type": "code",
   "outputs": [
    {
     "data": {
      "text/plain": "26"
     },
     "execution_count": 50,
     "metadata": {},
     "output_type": "execute_result"
    }
   ],
   "source": [
    "len(unknown_citations)"
   ],
   "metadata": {
    "collapsed": false,
    "ExecuteTime": {
     "end_time": "2024-02-20T15:19:08.833885Z",
     "start_time": "2024-02-20T15:19:08.819356Z"
    }
   },
   "id": "4dc342b8d093727",
   "execution_count": 50
  },
  {
   "cell_type": "code",
   "outputs": [
    {
     "data": {
      "text/plain": "(39, 26, 39)"
     },
     "execution_count": 51,
     "metadata": {},
     "output_type": "execute_result"
    }
   ],
   "source": [
    "spans2 = sum(groups,[])\n",
    "len(spans2),len(unknown_citations),len(known_citations)\n",
    "           \n",
    "    \n",
    "\n"
   ],
   "metadata": {
    "collapsed": false,
    "ExecuteTime": {
     "end_time": "2024-02-20T15:19:10.183228Z",
     "start_time": "2024-02-20T15:19:10.170039Z"
    }
   },
   "id": "8362228994625f5",
   "execution_count": 51
  },
  {
   "cell_type": "code",
   "outputs": [
    {
     "name": "stdout",
     "output_type": "stream",
     "text": [
      "{'volume': '329', 'reporter': 'U.S.', 'page': '29', 'text': '329 U.S. 29', 'start': 0, 'end': 11} ok\n",
      "{'volume': '67', 'reporter': 'S.Ct.', 'page': '1', 'text': '67 S.Ct. 1', 'start': 12, 'end': 22} ok\n",
      "{'volume': '91', 'reporter': 'L.Ed.', 'page': '22', 'text': '91 L.Ed. 22', 'start': 23, 'end': 34} ok\n",
      "{'volume': '329', 'reporter': 'U.S.', 'page': '831', 'text': '329 U.S. 831', 'start': 172, 'end': 184} ok\n",
      "{'volume': '67', 'reporter': 'S.Ct.', 'page': '363', 'text': '67 S.Ct. 363', 'start': 186, 'end': 198} ok\n",
      "{'text': '§', 'start': 603, 'end': 604} missing\n",
      "{'text': '§', 'start': 1054, 'end': 1055} missing\n",
      "{'title': '28', 'reporter': 'U.S.C.', 'section': '345', 'text': '28 U.S.C. § 345', 'start': 1061, 'end': 1076} ok\n",
      "{'title': '28', 'reporter': 'U.S.C.A.', 'section': '345', 'text': '28 U.S.C.A. § 345', 'start': 1078, 'end': 1095} ok\n",
      "{'volume': '234', 'reporter': 'U.S.', 'page': '548', 'text': '234 U.S. 548', 'start': 2989, 'end': 3001} ok\n",
      "{'volume': '34', 'reporter': 'S.Ct.', 'page': '956', 'text': '34 S.Ct. 956', 'start': 3003, 'end': 3015} ok\n",
      "{'volume': '58', 'reporter': 'L.Ed.', 'page': '1459', 'text': '58 L.Ed. 1459', 'start': 3017, 'end': 3030} ok\n",
      "{'volume': '308', 'reporter': 'U.S.', 'page': '141', 'text': '308 U.S. 141', 'start': 3084, 'end': 3096} ok\n",
      "{'volume': '60', 'reporter': 'S.Ct.', 'page': '160', 'text': '60 S.Ct. 160', 'start': 3098, 'end': 3110} ok\n",
      "{'volume': '84', 'reporter': 'L.Ed.', 'page': '151', 'text': '84 L.Ed. 151', 'start': 3112, 'end': 3124} ok\n",
      "{'volume': '234', 'reporter': 'U.S.', 'page': '548', 'text': '234 U.S. 548', 'start': 3335, 'end': 3347} ok\n",
      "{'volume': '34', 'reporter': 'S.Ct.', 'page': '956', 'text': '34 S.Ct. 956', 'start': 3354, 'end': 3366} ok\n",
      "{'volume': '58', 'reporter': 'L.Ed.', 'page': '1459', 'text': '58 L.Ed. 1459', 'start': 3373, 'end': 3386} ok\n",
      "{'text': '§', 'start': 7624, 'end': 7625} missing\n",
      "{'text': '§', 'start': 7632, 'end': 7633} missing\n",
      "{'volume': '234', 'reporter': 'U.S.', 'page': '548', 'text': '234 U.S. 548', 'start': 9178, 'end': 9190} ok\n",
      "{'volume': '34', 'reporter': 'S.Ct.', 'page': '956', 'text': '34 S.Ct. 956', 'start': 9192, 'end': 9204} ok\n",
      "{'volume': '58', 'reporter': 'L.Ed.', 'page': '1459', 'text': '58 L.Ed. 1459', 'start': 9206, 'end': 9219} ok\n",
      "{'volume': '308', 'reporter': 'U.S.', 'page': '141', 'text': '308 U.S. 141', 'start': 9261, 'end': 9273} ok\n",
      "{'volume': '60', 'reporter': 'S.Ct.', 'page': '160', 'text': '60 S.Ct. 160', 'start': 9275, 'end': 9287} ok\n",
      "{'volume': '84', 'reporter': 'L.Ed.', 'page': '151', 'text': '84 L.Ed. 151', 'start': 9289, 'end': 9301} ok\n",
      "{'volume': '34', 'reporter': 'Stat.', 'page': '584', 'text': '34 Stat. 584', 'start': 10069, 'end': 10081} ok\n",
      "{'volume': '41', 'reporter': 'Stat.', 'page': '474', 'text': '41 Stat. 474', 'start': 10148, 'end': 10160} ok\n",
      "{'volume': '84', 'reporter': 'L.Ed.', 'page': '151', 'text': '84 L.Ed. 151', 'start': 10243, 'end': 10255} ok\n",
      "{'volume': '58', 'reporter': 'L.Ed.', 'page': '1459', 'text': '58 L.Ed. 1459', 'start': 11371, 'end': 11384} ok\n",
      "{'title': '49', 'reporter': 'U.S.C.', 'section': '304', 'text': '49 U.S.C. § 304', 'start': 11768, 'end': 11783} ok\n",
      "{'text': '§', 'start': 11802, 'end': 11803} missing\n",
      "{'text': '§', 'start': 13298, 'end': 13299} missing\n",
      "{'text': '§', 'start': 13476, 'end': 13477} missing\n",
      "{'text': '§', 'start': 13490, 'end': 13491} missing\n",
      "{'text': '§', 'start': 13519, 'end': 13520} missing\n",
      "{'text': '§', 'start': 13529, 'end': 13530} missing\n",
      "{'text': '§', 'start': 13575, 'end': 13576} missing\n",
      "{'text': '§', 'start': 13599, 'end': 13600} missing\n",
      "{'text': '§', 'start': 13689, 'end': 13690} missing\n",
      "{'text': '§', 'start': 13737, 'end': 13738} missing\n",
      "{'text': '(§', 'start': 13915, 'end': 13917} missing\n",
      "{'text': '(§', 'start': 13964, 'end': 13966} missing\n",
      "{'text': '§', 'start': 14138, 'end': 14139} missing\n",
      "{'text': '§', 'start': 14223, 'end': 14224} missing\n",
      "{'text': '§', 'start': 14293, 'end': 14294} missing\n",
      "{'volume': '37', 'reporter': 'Stat.', 'page': '701', 'text': '37 Stat. 701', 'start': 15021, 'end': 15033} ok\n",
      "{'text': '§', 'start': 15045, 'end': 15046} missing\n",
      "{'text': '§', 'start': 15064, 'end': 15065} missing\n",
      "{'text': '§§', 'start': 16669, 'end': 16671} missing\n",
      "{'title': '28', 'reporter': 'U.S.C.A.', 'section': '46', 'text': '28 U.S.C.A. §§ 46', 'start': 16702, 'end': 16719} ok\n",
      "{'text': '§', 'start': 16836, 'end': 16837} missing\n",
      "{'volume': '41', 'reporter': 'Stat.', 'page': '474', 'text': '41 Stat. 474', 'start': 17324, 'end': 17336} ok\n",
      "{'volume': '48', 'reporter': 'Stat.', 'page': '1102', 'text': '48 Stat. 1102', 'start': 17350, 'end': 17363} ok\n",
      "{'title': '49', 'reporter': 'U.S.C.', 'section': '1', 'text': '49 U.S.C. § 1', 'start': 17365, 'end': 17378} ok\n",
      "{'title': '49', 'reporter': 'U.S.C.A.', 'section': '1', 'text': '49 U.S.C.A. § 1', 'start': 17380, 'end': 17395} ok\n",
      "{'text': '§', 'start': 17415, 'end': 17416} missing\n",
      "{'volume': '308', 'reporter': 'U.S.', 'page': '141', 'text': '308 U.S. 141', 'start': 17631, 'end': 17643} ok\n",
      "{'volume': '60', 'reporter': 'S.Ct.', 'page': '160', 'text': '60 S.Ct. 160', 'start': 17650, 'end': 17662} ok\n",
      "{'volume': '84', 'reporter': 'L.Ed.', 'page': '151', 'text': '84 L.Ed. 151', 'start': 17669, 'end': 17681} ok\n",
      "{'title': '49', 'reporter': 'U.S.C.', 'section': '1', 'text': '49 U.S.C. § 1', 'start': 17688, 'end': 17701} ok\n",
      "{'title': '49', 'reporter': 'U.S.C.A.', 'section': '1', 'text': '49 U.S.C.A. § 1', 'start': 17703, 'end': 17718} ok\n",
      "{'text': '§', 'start': 18257, 'end': 18258} missing\n",
      "{'text': '§', 'start': 18276, 'end': 18277} missing\n",
      "{'volume': '58', 'reporter': 'L.Ed.', 'page': '1459', 'text': '58 L.Ed. 1459', 'start': 18919, 'end': 18932} ok\n"
     ]
    }
   ],
   "source": [
    "def inside(span,item):\n",
    "    return span['start'] >= item['start'] and span['end'] <= item['end']\n",
    "\n",
    "for span in spans:\n",
    "    found = False\n",
    "    for group in groups:\n",
    "        for item in group:\n",
    "            if item == span:\n",
    "                print(span,'ok')\n",
    "                found = True\n",
    "            elif inside(span,item):\n",
    "                print(span,'inside')\n",
    "                found = True\n",
    "            elif inside(item,span):\n",
    "                print(span,\"outside\")\n",
    "    if not found:\n",
    "        print(span,'missing')"
   ],
   "metadata": {
    "collapsed": false,
    "ExecuteTime": {
     "end_time": "2024-02-20T15:07:10.207271Z",
     "start_time": "2024-02-20T15:07:10.171779Z"
    }
   },
   "id": "3ce63e5f10f9eb91",
   "execution_count": 31
  },
  {
   "cell_type": "code",
   "outputs": [
    {
     "ename": "NameError",
     "evalue": "name 'small' is not defined",
     "output_type": "error",
     "traceback": [
      "\u001B[0;31m---------------------------------------------------------------------------\u001B[0m",
      "\u001B[0;31mNameError\u001B[0m                                 Traceback (most recent call last)",
      "Cell \u001B[0;32mIn[17], line 2\u001B[0m\n\u001B[1;32m      1\u001B[0m citations[\u001B[38;5;241m0\u001B[39m]\n\u001B[0;32m----> 2\u001B[0m cit \u001B[38;5;241m=\u001B[39m eyecite\u001B[38;5;241m.\u001B[39mget_citations(\u001B[43msmall\u001B[49m)\n\u001B[1;32m      3\u001B[0m resolved \u001B[38;5;241m=\u001B[39m eyecite\u001B[38;5;241m.\u001B[39mresolve_citations(cit)\n",
      "\u001B[0;31mNameError\u001B[0m: name 'small' is not defined"
     ]
    }
   ],
   "source": [],
   "metadata": {
    "collapsed": false,
    "ExecuteTime": {
     "end_time": "2024-02-19T21:08:47.587599Z",
     "start_time": "2024-02-19T21:08:47.573116Z"
    }
   },
   "id": "5883f906811448e2",
   "execution_count": 17
  },
  {
   "cell_type": "code",
   "outputs": [
    {
     "data": {
      "text/plain": "defaultdict(list,\n            {Resource(citation=FullJournalCitation('25 Texas L.Rev. 199', groups={'volume': '25', 'reporter': 'Texas L.Rev.', 'page': '199'}, metadata=ResourceCitation.Metadata(parenthetical=None, pin_cite=None, year=None))): [FullJournalCitation('25 Texas L.Rev. 199', groups={'volume': '25', 'reporter': 'Texas L.Rev.', 'page': '199'}, metadata=ResourceCitation.Metadata(parenthetical=None, pin_cite=None, year=None))]})"
     },
     "execution_count": 13,
     "metadata": {},
     "output_type": "execute_result"
    }
   ],
   "source": [
    "resolved"
   ],
   "metadata": {
    "collapsed": false,
    "ExecuteTime": {
     "end_time": "2024-02-19T02:55:40.593964Z",
     "start_time": "2024-02-19T02:55:40.575238Z"
    }
   },
   "id": "69211d26ff90c780",
   "execution_count": 13
  },
  {
   "cell_type": "code",
   "outputs": [
    {
     "data": {
      "text/plain": "(12, 22)"
     },
     "execution_count": 30,
     "metadata": {},
     "output_type": "execute_result"
    }
   ],
   "source": [
    "cits[0].span()"
   ],
   "metadata": {
    "collapsed": false,
    "ExecuteTime": {
     "end_time": "2024-02-18T18:28:28.958844Z",
     "start_time": "2024-02-18T18:28:28.938659Z"
    }
   },
   "id": "f45b40e24f625b4f",
   "execution_count": 30
  },
  {
   "cell_type": "code",
   "outputs": [],
   "source": [],
   "metadata": {
    "collapsed": false,
    "ExecuteTime": {
     "end_time": "2024-02-18T19:07:38.731753Z",
     "start_time": "2024-02-18T19:07:38.713521Z"
    }
   },
   "id": "29bae96e4324e804",
   "execution_count": 65
  },
  {
   "cell_type": "code",
   "outputs": [
    {
     "data": {
      "text/plain": "{'keys': [(0, 11),\n  (0, 11),\n  (0, 11),\n  (0, 11),\n  (0, 11),\n  (0, 11),\n  (0, 11),\n  (0, 11),\n  (0, 11),\n  (0, 11),\n  (0, 11),\n  (0, 11),\n  (0, 11),\n  (0, 11),\n  (0, 11),\n  (0, 11),\n  (0, 11),\n  (0, 11),\n  (0, 11),\n  (0, 11),\n  (0, 11)]}"
     },
     "execution_count": 66,
     "metadata": {},
     "output_type": "execute_result"
    }
   ],
   "source": [],
   "metadata": {
    "collapsed": false,
    "ExecuteTime": {
     "end_time": "2024-02-18T19:07:39.438787Z",
     "start_time": "2024-02-18T19:07:39.388266Z"
    }
   },
   "id": "19853b22c273dcaf",
   "execution_count": 66
  },
  {
   "cell_type": "code",
   "outputs": [
    {
     "data": {
      "text/plain": "0    {Resource(citation=FullCaseCitation('329 U.S. ...\n1    {Resource(citation=FullCaseCitation('329 U.S. ...\n2    {Resource(citation=FullCaseCitation('329 U.S. ...\n3    {Resource(citation=FullCaseCitation('329 U.S. ...\n4    {Resource(citation=FullCaseCitation('329 U.S. ...\nName: text, dtype: object"
     },
     "execution_count": 68,
     "metadata": {},
     "output_type": "execute_result"
    }
   ],
   "source": [
    "resolved"
   ],
   "metadata": {
    "collapsed": false,
    "ExecuteTime": {
     "end_time": "2024-02-18T19:08:49.691293Z",
     "start_time": "2024-02-18T19:08:49.650165Z"
    }
   },
   "id": "31a1510f7eb534df",
   "execution_count": 68
  },
  {
   "cell_type": "code",
   "outputs": [
    {
     "data": {
      "text/plain": "(4,\n defaultdict(list,\n             {Resource(citation=FullCaseCitation('329 U.S. 90', groups={'volume': '329', 'reporter': 'U.S.', 'page': '90'}, metadata=FullCaseCitation.Metadata(parenthetical=None, pin_cite=None, year=None, court='scotus', plaintiff=None, defendant=None, extra=None))): [FullCaseCitation('329 U.S. 90', groups={'volume': '329', 'reporter': 'U.S.', 'page': '90'}, metadata=FullCaseCitation.Metadata(parenthetical=None, pin_cite=None, year=None, court='scotus', plaintiff=None, defendant=None, extra=None))],\n              Resource(citation=FullCaseCitation('67 S.Ct. 133', groups={'volume': '67', 'reporter': 'S.Ct.', 'page': '133'}, metadata=FullCaseCitation.Metadata(parenthetical=None, pin_cite=None, year=None, court='scotus', plaintiff=None, defendant=None, extra=None))): [FullCaseCitation('67 S.Ct. 133', groups={'volume': '67', 'reporter': 'S.Ct.', 'page': '133'}, metadata=FullCaseCitation.Metadata(parenthetical=None, pin_cite=None, year=None, court='scotus', plaintiff=None, defendant=None, extra=None))],\n              Resource(citation=FullCaseCitation('91 L.Ed. 103', groups={'volume': '91', 'reporter': 'L.Ed.', 'page': '103'}, metadata=FullCaseCitation.Metadata(parenthetical=None, pin_cite=None, year=None, court=None, plaintiff=None, defendant=None, extra=None))): [FullCaseCitation('91 L.Ed. 103', groups={'volume': '91', 'reporter': 'L.Ed.', 'page': '103'}, metadata=FullCaseCitation.Metadata(parenthetical=None, pin_cite=None, year=None, court=None, plaintiff=None, defendant=None, extra=None))],\n              Resource(citation=FullCaseCitation('303 U.S. 419', groups={'volume': '303', 'reporter': 'U.S.', 'page': '419'}, metadata=FullCaseCitation.Metadata(parenthetical=None, pin_cite=None, year=None, court='scotus', plaintiff='Co.', defendant='S.E.C.', extra=None))): [FullCaseCitation('303 U.S. 419', groups={'volume': '303', 'reporter': 'U.S.', 'page': '419'}, metadata=FullCaseCitation.Metadata(parenthetical=None, pin_cite=None, year=None, court='scotus', plaintiff='Co.', defendant='S.E.C.', extra=None)),\n               FullCaseCitation('303 U.S. 419', groups={'volume': '303', 'reporter': 'U.S.', 'page': '419'}, metadata=FullCaseCitation.Metadata(parenthetical=None, pin_cite=None, year=None, court='scotus', plaintiff='Co.', defendant='S.E.C.', extra=None))],\n              Resource(citation=FullCaseCitation('58 S.Ct. 678', groups={'volume': '58', 'reporter': 'S.Ct.', 'page': '678'}, metadata=FullCaseCitation.Metadata(parenthetical=None, pin_cite=None, year=None, court='scotus', plaintiff='Co.', defendant='S.E.C., 303 U.S. 419', extra=None))): [FullCaseCitation('58 S.Ct. 678', groups={'volume': '58', 'reporter': 'S.Ct.', 'page': '678'}, metadata=FullCaseCitation.Metadata(parenthetical=None, pin_cite=None, year=None, court='scotus', plaintiff='Co.', defendant='S.E.C., 303 U.S. 419', extra=None)),\n               FullCaseCitation('58 S.Ct. 678', groups={'volume': '58', 'reporter': 'S.Ct.', 'page': '678'}, metadata=FullCaseCitation.Metadata(parenthetical=None, pin_cite=None, year=None, court='scotus', plaintiff='Co.', defendant='S.E.C., 303 U.S. 419', extra=None))],\n              Resource(citation=FullCaseCitation('82 L.Ed. 936', groups={'volume': '82', 'reporter': 'L.Ed.', 'page': '936'}, metadata=FullCaseCitation.Metadata(parenthetical=None, pin_cite=None, year=None, court=None, plaintiff='Co.', defendant='S.E.C., 303 U.S. 419, 58 S.Ct. 678', extra=None))): [FullCaseCitation('82 L.Ed. 936', groups={'volume': '82', 'reporter': 'L.Ed.', 'page': '936'}, metadata=FullCaseCitation.Metadata(parenthetical=None, pin_cite=None, year=None, court=None, plaintiff='Co.', defendant='S.E.C., 303 U.S. 419, 58 S.Ct. 678', extra=None)),\n               FullCaseCitation('82 L.Ed. 936', groups={'volume': '82', 'reporter': 'L.Ed.', 'page': '936'}, metadata=FullCaseCitation.Metadata(parenthetical=None, pin_cite=None, year=None, court=None, plaintiff='Co.', defendant='S.E.C., supra, 303 U.S. 432, 433, 58 S.Ct. 681, 682', extra=None)),\n               FullCaseCitation('82 L.Ed. 936', groups={'volume': '82', 'reporter': 'L.Ed.', 'page': '936'}, metadata=FullCaseCitation.Metadata(parenthetical=None, pin_cite=None, year=None, court=None, plaintiff='Co.', defendant='S.E.C., 303 U.S. 419, 58 S.Ct. 678', extra=None))],\n              Resource(citation=FullCaseCitation('115 A.L.R. 105', groups={'volume': '115', 'reporter': 'A.L.R.', 'page': '105'}, metadata=FullCaseCitation.Metadata(parenthetical=None, pin_cite=None, year=None, court=None, plaintiff='Co.', defendant='S.E.C., 303 U.S. 419, 58 S.Ct. 678, 82 L.Ed. 936', extra=None))): [FullCaseCitation('115 A.L.R. 105', groups={'volume': '115', 'reporter': 'A.L.R.', 'page': '105'}, metadata=FullCaseCitation.Metadata(parenthetical=None, pin_cite=None, year=None, court=None, plaintiff='Co.', defendant='S.E.C., 303 U.S. 419, 58 S.Ct. 678, 82 L.Ed. 936', extra=None)),\n               FullCaseCitation('115 A.L.R. 105', groups={'volume': '115', 'reporter': 'A.L.R.', 'page': '105'}, metadata=FullCaseCitation.Metadata(parenthetical=None, pin_cite=None, year=None, court=None, plaintiff='Co.', defendant='S.E.C., supra, 303 U.S. 432, 433, 58 S.Ct. 681, 682, 82 L.Ed. 936', extra=None)),\n               FullCaseCitation('115 A.L.R. 105', groups={'volume': '115', 'reporter': 'A.L.R.', 'page': '105'}, metadata=FullCaseCitation.Metadata(parenthetical=None, pin_cite=None, year=None, court=None, plaintiff='Co.', defendant='S.E.C., 303 U.S. 419, 58 S.Ct. 678, 82 L.Ed. 936', extra=None))],\n              Resource(citation=FullCaseCitation('141 F.2d 606', groups={'volume': '141', 'reporter': 'F.2d', 'page': '606'}, metadata=FullCaseCitation.Metadata(parenthetical=None, pin_cite=None, year=None, court=None, plaintiff=None, defendant=None, extra=None))): [FullCaseCitation('141 F.2d 606', groups={'volume': '141', 'reporter': 'F.2d', 'page': '606'}, metadata=FullCaseCitation.Metadata(parenthetical=None, pin_cite=None, year=None, court=None, plaintiff=None, defendant=None, extra=None))],\n              Resource(citation=FullCaseCitation('325 U.S. 846', groups={'volume': '325', 'reporter': 'U.S.', 'page': '846'}, metadata=FullCaseCitation.Metadata(parenthetical=None, pin_cite=None, year=None, court='scotus', plaintiff=None, defendant='certiorari because of the obvious public importance of the issues presented.', extra=None))): [FullCaseCitation('325 U.S. 846', groups={'volume': '325', 'reporter': 'U.S.', 'page': '846'}, metadata=FullCaseCitation.Metadata(parenthetical=None, pin_cite=None, year=None, court='scotus', plaintiff=None, defendant='certiorari because of the obvious public importance of the issues presented.', extra=None))],\n              Resource(citation=FullCaseCitation('65 S.Ct. 1400', groups={'volume': '65', 'reporter': 'S.Ct.', 'page': '1400'}, metadata=FullCaseCitation.Metadata(parenthetical=None, pin_cite=None, year=None, court='scotus', plaintiff=None, defendant='certiorari because of the obvious public importance of the issues presented. 325 U.S. 846', extra=None))): [FullCaseCitation('65 S.Ct. 1400', groups={'volume': '65', 'reporter': 'S.Ct.', 'page': '1400'}, metadata=FullCaseCitation.Metadata(parenthetical=None, pin_cite=None, year=None, court='scotus', plaintiff=None, defendant='certiorari because of the obvious public importance of the issues presented. 325 U.S. 846', extra=None))],\n              Resource(citation=FullCaseCitation('89 L.Ed. 1968', groups={'volume': '89', 'reporter': 'L.Ed.', 'page': '1968'}, metadata=FullCaseCitation.Metadata(parenthetical=None, pin_cite=None, year=None, court=None, plaintiff=None, defendant=None, extra=None))): [FullCaseCitation('89 L.Ed. 1968', groups={'volume': '89', 'reporter': 'L.Ed.', 'page': '1968'}, metadata=FullCaseCitation.Metadata(parenthetical=None, pin_cite=None, year=None, court=None, plaintiff=None, defendant=None, extra=None))],\n              Resource(citation=FullCaseCitation('327 U.S. 686', groups={'volume': '327', 'reporter': 'U.S.', 'page': '686'}, metadata=FullCaseCitation.Metadata(parenthetical=None, pin_cite=None, year=None, court='scotus', plaintiff='Co.', defendant='S.E.C.', extra=None))): [FullCaseCitation('327 U.S. 686', groups={'volume': '327', 'reporter': 'U.S.', 'page': '686'}, metadata=FullCaseCitation.Metadata(parenthetical=None, pin_cite=None, year=None, court='scotus', plaintiff='Co.', defendant='S.E.C.', extra=None)),\n               FullCaseCitation('327 U.S. 686', groups={'volume': '327', 'reporter': 'U.S.', 'page': '686'}, metadata=FullCaseCitation.Metadata(parenthetical=None, pin_cite=None, year=None, court='scotus', plaintiff='Co.', defendant='S.E.C.', extra=None))],\n              Resource(citation=FullCaseCitation('66 S.Ct. 785', groups={'volume': '66', 'reporter': 'S.Ct.', 'page': '785'}, metadata=FullCaseCitation.Metadata(parenthetical=None, pin_cite=None, year=None, court='scotus', plaintiff='Co.', defendant='S.E.C., 327 U.S. 686', extra=None))): [FullCaseCitation('66 S.Ct. 785', groups={'volume': '66', 'reporter': 'S.Ct.', 'page': '785'}, metadata=FullCaseCitation.Metadata(parenthetical=None, pin_cite=None, year=None, court='scotus', plaintiff='Co.', defendant='S.E.C., 327 U.S. 686', extra=None)),\n               FullCaseCitation('66 S.Ct. 785', groups={'volume': '66', 'reporter': 'S.Ct.', 'page': '785'}, metadata=FullCaseCitation.Metadata(parenthetical=None, pin_cite=None, year=None, court='scotus', plaintiff='Co.', defendant='S.E.C., 327 U.S. 686', extra=None))],\n              Resource(citation=FullCaseCitation('217 U.S. 91', groups={'volume': '217', 'reporter': 'U.S.', 'page': '91'}, metadata=FullCaseCitation.Metadata(parenthetical=None, pin_cite=None, year=None, court='scotus', plaintiff='Co.', defendant='Pigg', extra=None))): [FullCaseCitation('217 U.S. 91', groups={'volume': '217', 'reporter': 'U.S.', 'page': '91'}, metadata=FullCaseCitation.Metadata(parenthetical=None, pin_cite=None, year=None, court='scotus', plaintiff='Co.', defendant='Pigg', extra=None))],\n              Resource(citation=FullCaseCitation('30 S.Ct. 481', groups={'volume': '30', 'reporter': 'S.Ct.', 'page': '481'}, metadata=FullCaseCitation.Metadata(parenthetical=None, pin_cite=None, year=None, court='scotus', plaintiff='Co.', defendant='Pigg, 217 U.S. 91', extra=None))): [FullCaseCitation('30 S.Ct. 481', groups={'volume': '30', 'reporter': 'S.Ct.', 'page': '481'}, metadata=FullCaseCitation.Metadata(parenthetical=None, pin_cite=None, year=None, court='scotus', plaintiff='Co.', defendant='Pigg, 217 U.S. 91', extra=None))],\n              Resource(citation=FullCaseCitation('54 L.Ed. 678', groups={'volume': '54', 'reporter': 'L.Ed.', 'page': '678'}, metadata=FullCaseCitation.Metadata(parenthetical=None, pin_cite=None, year=None, court=None, plaintiff='Co.', defendant='Pigg, 217 U.S. 91, 30 S.Ct. 481', extra=None))): [FullCaseCitation('54 L.Ed. 678', groups={'volume': '54', 'reporter': 'L.Ed.', 'page': '678'}, metadata=FullCaseCitation.Metadata(parenthetical=None, pin_cite=None, year=None, court=None, plaintiff='Co.', defendant='Pigg, 217 U.S. 91, 30 S.Ct. 481', extra=None))],\n              Resource(citation=FullCaseCitation('303 U.S. 432', groups={'volume': '303', 'reporter': 'U.S.', 'page': '432'}, metadata=FullCaseCitation.Metadata(parenthetical=None, pin_cite='433', year=None, court='scotus', plaintiff='Co.', defendant='S.E.C., supra', extra=None))): [FullCaseCitation('303 U.S. 432', groups={'volume': '303', 'reporter': 'U.S.', 'page': '432'}, metadata=FullCaseCitation.Metadata(parenthetical=None, pin_cite='433', year=None, court='scotus', plaintiff='Co.', defendant='S.E.C., supra', extra=None))],\n              Resource(citation=FullCaseCitation('58 S.Ct. 681', groups={'volume': '58', 'reporter': 'S.Ct.', 'page': '681'}, metadata=FullCaseCitation.Metadata(parenthetical=None, pin_cite='682', year=None, court='scotus', plaintiff='Co.', defendant='S.E.C., supra, 303 U.S. 432, 433', extra=None))): [FullCaseCitation('58 S.Ct. 681', groups={'volume': '58', 'reporter': 'S.Ct.', 'page': '681'}, metadata=FullCaseCitation.Metadata(parenthetical=None, pin_cite='682', year=None, court='scotus', plaintiff='Co.', defendant='S.E.C., supra, 303 U.S. 432, 433', extra=None))],\n              Resource(citation=FullCaseCitation('312 U.S. 100', groups={'volume': '312', 'reporter': 'U.S.', 'page': '100'}, metadata=FullCaseCitation.Metadata(parenthetical=None, pin_cite='657', year=None, court='scotus', plaintiff='States', defendant='Darby', extra=None))): [FullCaseCitation('312 U.S. 100', groups={'volume': '312', 'reporter': 'U.S.', 'page': '100'}, metadata=FullCaseCitation.Metadata(parenthetical=None, pin_cite='657', year=None, court='scotus', plaintiff='States', defendant='Darby', extra=None)),\n               FullCaseCitation('312 U.S. 100', groups={'volume': '312', 'reporter': 'U.S.', 'page': '100'}, metadata=FullCaseCitation.Metadata(parenthetical=None, pin_cite='657', year=None, court='scotus', plaintiff='States', defendant='Darby', extra=None))],\n              Resource(citation=FullCaseCitation('61 S.Ct. 451', groups={'volume': '61', 'reporter': 'S.Ct.', 'page': '451'}, metadata=FullCaseCitation.Metadata(parenthetical=None, pin_cite=None, year=None, court='scotus', plaintiff='States', defendant='Darby, 312 U.S. 100, 657', extra=None))): [FullCaseCitation('61 S.Ct. 451', groups={'volume': '61', 'reporter': 'S.Ct.', 'page': '451'}, metadata=FullCaseCitation.Metadata(parenthetical=None, pin_cite=None, year=None, court='scotus', plaintiff='States', defendant='Darby, 312 U.S. 100, 657', extra=None)),\n               FullCaseCitation('61 S.Ct. 451', groups={'volume': '61', 'reporter': 'S.Ct.', 'page': '451'}, metadata=FullCaseCitation.Metadata(parenthetical=None, pin_cite=None, year=None, court='scotus', plaintiff='States', defendant='Darby, 312 U.S. 100, 657', extra=None))],\n              Resource(citation=FullCaseCitation('85 L.Ed. 609', groups={'volume': '85', 'reporter': 'L.Ed.', 'page': '609'}, metadata=FullCaseCitation.Metadata(parenthetical=None, pin_cite=None, year=None, court=None, plaintiff='States', defendant='Darby, 312 U.S. 100, 657, 61 S.Ct. 451', extra=None))): [FullCaseCitation('85 L.Ed. 609', groups={'volume': '85', 'reporter': 'L.Ed.', 'page': '609'}, metadata=FullCaseCitation.Metadata(parenthetical=None, pin_cite=None, year=None, court=None, plaintiff='States', defendant='Darby, 312 U.S. 100, 657, 61 S.Ct. 451', extra=None)),\n               FullCaseCitation('85 L.Ed. 609', groups={'volume': '85', 'reporter': 'L.Ed.', 'page': '609'}, metadata=FullCaseCitation.Metadata(parenthetical=None, pin_cite=None, year=None, court=None, plaintiff='States', defendant='Darby, 312 U.S. 100, 657, 61 S.Ct. 451', extra=None))],\n              Resource(citation=FullCaseCitation('132 A.L.R. 1430', groups={'volume': '132', 'reporter': 'A.L.R.', 'page': '1430'}, metadata=FullCaseCitation.Metadata(parenthetical=None, pin_cite=None, year=None, court=None, plaintiff='States', defendant='Darby, 312 U.S. 100, 657, 61 S.Ct. 451, 85 L.Ed. 609', extra=None))): [FullCaseCitation('132 A.L.R. 1430', groups={'volume': '132', 'reporter': 'A.L.R.', 'page': '1430'}, metadata=FullCaseCitation.Metadata(parenthetical=None, pin_cite=None, year=None, court=None, plaintiff='States', defendant='Darby, 312 U.S. 100, 657, 61 S.Ct. 451, 85 L.Ed. 609', extra=None)),\n               FullCaseCitation('132 A.L.R. 1430', groups={'volume': '132', 'reporter': 'A.L.R.', 'page': '1430'}, metadata=FullCaseCitation.Metadata(parenthetical=None, pin_cite=None, year=None, court=None, plaintiff='States', defendant='Darby, 312 U.S. 100, 657, 61 S.Ct. 451, 85 L.Ed. 609', extra=None))],\n              Resource(citation=FullCaseCitation('267 U.S. 432', groups={'volume': '267', 'reporter': 'U.S.', 'page': '432'}, metadata=FullCaseCitation.Metadata(parenthetical=None, pin_cite=None, year=None, court='scotus', plaintiff='Brooks', defendant='United States', extra=None))): [FullCaseCitation('267 U.S. 432', groups={'volume': '267', 'reporter': 'U.S.', 'page': '432'}, metadata=FullCaseCitation.Metadata(parenthetical=None, pin_cite=None, year=None, court='scotus', plaintiff='Brooks', defendant='United States', extra=None))],\n              Resource(citation=FullCaseCitation('45 S.Ct. 345', groups={'volume': '45', 'reporter': 'S.Ct.', 'page': '345'}, metadata=FullCaseCitation.Metadata(parenthetical=None, pin_cite=None, year=None, court='scotus', plaintiff='Brooks', defendant='United States, 267 U.S. 432', extra=None))): [FullCaseCitation('45 S.Ct. 345', groups={'volume': '45', 'reporter': 'S.Ct.', 'page': '345'}, metadata=FullCaseCitation.Metadata(parenthetical=None, pin_cite=None, year=None, court='scotus', plaintiff='Brooks', defendant='United States, 267 U.S. 432', extra=None))],\n              Resource(citation=FullCaseCitation('69 L.Ed. 699', groups={'volume': '69', 'reporter': 'L.Ed.', 'page': '699'}, metadata=FullCaseCitation.Metadata(parenthetical=None, pin_cite=None, year=None, court=None, plaintiff='Brooks', defendant='United States, 267 U.S. 432, 45 S.Ct. 345', extra=None))): [FullCaseCitation('69 L.Ed. 699', groups={'volume': '69', 'reporter': 'L.Ed.', 'page': '699'}, metadata=FullCaseCitation.Metadata(parenthetical=None, pin_cite=None, year=None, court=None, plaintiff='Brooks', defendant='United States, 267 U.S. 432, 45 S.Ct. 345', extra=None))],\n              Resource(citation=FullCaseCitation('37 A.L.R. 1407', groups={'volume': '37', 'reporter': 'A.L.R.', 'page': '1407'}, metadata=FullCaseCitation.Metadata(parenthetical=None, pin_cite=None, year=None, court=None, plaintiff='Brooks', defendant='United States, 267 U.S. 432, 45 S.Ct. 345, 69 L.Ed. 699', extra=None))): [FullCaseCitation('37 A.L.R. 1407', groups={'volume': '37', 'reporter': 'A.L.R.', 'page': '1407'}, metadata=FullCaseCitation.Metadata(parenthetical=None, pin_cite=None, year=None, court=None, plaintiff='Brooks', defendant='United States, 267 U.S. 432, 45 S.Ct. 345, 69 L.Ed. 699', extra=None))],\n              Resource(citation=FullCaseCitation('9 Wheat. 1', groups={'volume': '9', 'reporter': 'Wheat.', 'page': '1'}, metadata=FullCaseCitation.Metadata(parenthetical=None, pin_cite='196', year=None, court='scotus', plaintiff='Gibbons', defendant='Ogden', extra=None))): [FullCaseCitation('9 Wheat. 1', groups={'volume': '9', 'reporter': 'Wheat.', 'page': '1'}, metadata=FullCaseCitation.Metadata(parenthetical=None, pin_cite='196', year=None, court='scotus', plaintiff='Gibbons', defendant='Ogden', extra=None))],\n              Resource(citation=FullCaseCitation('6 L.Ed. 23', groups={'volume': '6', 'reporter': 'L.Ed.', 'page': '23'}, metadata=FullCaseCitation.Metadata(parenthetical=None, pin_cite=None, year=None, court=None, plaintiff='Gibbons', defendant='Ogden, 9 Wheat. 1, 196', extra=None))): [FullCaseCitation('6 L.Ed. 23', groups={'volume': '6', 'reporter': 'L.Ed.', 'page': '23'}, metadata=FullCaseCitation.Metadata(parenthetical=None, pin_cite=None, year=None, court=None, plaintiff='Gibbons', defendant='Ogden, 9 Wheat. 1, 196', extra=None))],\n              Resource(citation=FullLawCitation('15 U.S.C.A. § 79', groups={'title': '15', 'reporter': 'U.S.C.A.', 'section': '79'}, metadata=FullLawCitation.Metadata(parenthetical=None, pin_cite='et seq.', year=None, publisher=None, day=None, month=None))): [FullLawCitation('15 U.S.C.A. § 79', groups={'title': '15', 'reporter': 'U.S.C.A.', 'section': '79'}, metadata=FullLawCitation.Metadata(parenthetical=None, pin_cite='et seq.', year=None, publisher=None, day=None, month=None))],\n              Resource(citation=FullCaseCitation('234 U.S. 476', groups={'volume': '234', 'reporter': 'U.S.', 'page': '476'}, metadata=FullCaseCitation.Metadata(parenthetical=None, pin_cite=None, year=None, court='scotus', plaintiff=None, defendant='Intermountain Rate Cases', extra=None))): [FullCaseCitation('234 U.S. 476', groups={'volume': '234', 'reporter': 'U.S.', 'page': '476'}, metadata=FullCaseCitation.Metadata(parenthetical=None, pin_cite=None, year=None, court='scotus', plaintiff=None, defendant='Intermountain Rate Cases', extra=None))],\n              Resource(citation=FullCaseCitation('34 S.Ct. 986', groups={'volume': '34', 'reporter': 'S.Ct.', 'page': '986'}, metadata=FullCaseCitation.Metadata(parenthetical=None, pin_cite=None, year=None, court='scotus', plaintiff=None, defendant='Intermountain Rate Cases, 234 U.S. 476', extra=None))): [FullCaseCitation('34 S.Ct. 986', groups={'volume': '34', 'reporter': 'S.Ct.', 'page': '986'}, metadata=FullCaseCitation.Metadata(parenthetical=None, pin_cite=None, year=None, court='scotus', plaintiff=None, defendant='Intermountain Rate Cases, 234 U.S. 476', extra=None))],\n              Resource(citation=FullCaseCitation('58 L.Ed. 1408', groups={'volume': '58', 'reporter': 'L.Ed.', 'page': '1408'}, metadata=FullCaseCitation.Metadata(parenthetical=None, pin_cite=None, year=None, court=None, plaintiff=None, defendant='Intermountain Rate Cases, 234 U.S. 476, 34 S.Ct. 986', extra=None))): [FullCaseCitation('58 L.Ed. 1408', groups={'volume': '58', 'reporter': 'L.Ed.', 'page': '1408'}, metadata=FullCaseCitation.Metadata(parenthetical=None, pin_cite=None, year=None, court=None, plaintiff=None, defendant='Intermountain Rate Cases, 234 U.S. 476, 34 S.Ct. 986', extra=None))],\n              Resource(citation=FullCaseCitation('287 U.S. 12', groups={'volume': '287', 'reporter': 'U.S.', 'page': '12'}, metadata=FullCaseCitation.Metadata(parenthetical=None, pin_cite='24, 25', year=None, court='scotus', plaintiff='Corp.', defendant='United States', extra=None))): [FullCaseCitation('287 U.S. 12', groups={'volume': '287', 'reporter': 'U.S.', 'page': '12'}, metadata=FullCaseCitation.Metadata(parenthetical=None, pin_cite='24, 25', year=None, court='scotus', plaintiff='Corp.', defendant='United States', extra=None))],\n              Resource(citation=FullCaseCitation('53 S.Ct. 45', groups={'volume': '53', 'reporter': 'S.Ct.', 'page': '45'}, metadata=FullCaseCitation.Metadata(parenthetical=None, pin_cite='48', year=None, court='scotus', plaintiff='Corp.', defendant='United States, 287 U.S. 12, 24, 25', extra=None))): [FullCaseCitation('53 S.Ct. 45', groups={'volume': '53', 'reporter': 'S.Ct.', 'page': '45'}, metadata=FullCaseCitation.Metadata(parenthetical=None, pin_cite='48', year=None, court='scotus', plaintiff='Corp.', defendant='United States, 287 U.S. 12, 24, 25', extra=None))],\n              Resource(citation=FullCaseCitation('77 L.Ed. 138', groups={'volume': '77', 'reporter': 'L.Ed.', 'page': '138'}, metadata=FullCaseCitation.Metadata(parenthetical=None, pin_cite=None, year=None, court=None, plaintiff='Corp.', defendant='United States, 287 U.S. 12, 24, 25, 53 S.Ct. 45, 48', extra=None))): [FullCaseCitation('77 L.Ed. 138', groups={'volume': '77', 'reporter': 'L.Ed.', 'page': '138'}, metadata=FullCaseCitation.Metadata(parenthetical=None, pin_cite=None, year=None, court=None, plaintiff='Corp.', defendant='United States, 287 U.S. 12, 24, 25, 53 S.Ct. 45, 48', extra=None))],\n              Resource(citation=FullCaseCitation('321 U.S. 414', groups={'volume': '321', 'reporter': 'U.S.', 'page': '414'}, metadata=FullCaseCitation.Metadata(parenthetical=None, pin_cite='419-427', year=None, court='scotus', plaintiff='Yakus', defendant='United States', extra=None))): [FullCaseCitation('321 U.S. 414', groups={'volume': '321', 'reporter': 'U.S.', 'page': '414'}, metadata=FullCaseCitation.Metadata(parenthetical=None, pin_cite='419-427', year=None, court='scotus', plaintiff='Yakus', defendant='United States', extra=None))],\n              Resource(citation=FullCaseCitation('64 S.Ct. 660', groups={'volume': '64', 'reporter': 'S.Ct.', 'page': '660'}, metadata=FullCaseCitation.Metadata(parenthetical=None, pin_cite='665-669', year=None, court='scotus', plaintiff='Yakus', defendant='United States, 321 U.S. 414, 419-427, and cases cited', extra=None))): [FullCaseCitation('64 S.Ct. 660', groups={'volume': '64', 'reporter': 'S.Ct.', 'page': '660'}, metadata=FullCaseCitation.Metadata(parenthetical=None, pin_cite='665-669', year=None, court='scotus', plaintiff='Yakus', defendant='United States, 321 U.S. 414, 419-427, and cases cited', extra=None))],\n              Resource(citation=FullCaseCitation('88 L.Ed. 834', groups={'volume': '88', 'reporter': 'L.Ed.', 'page': '834'}, metadata=FullCaseCitation.Metadata(parenthetical=None, pin_cite=None, year=None, court=None, plaintiff='Yakus', defendant='United States, 321 U.S. 414, 419-427, and cases cited, 64 S.Ct. 660, 665-669', extra=None))): [FullCaseCitation('88 L.Ed. 834', groups={'volume': '88', 'reporter': 'L.Ed.', 'page': '834'}, metadata=FullCaseCitation.Metadata(parenthetical=None, pin_cite=None, year=None, court=None, plaintiff='Yakus', defendant='United States, 321 U.S. 414, 419-427, and cases cited, 64 S.Ct. 660, 665-669', extra=None))],\n              Resource(citation=FullCaseCitation('310 U.S. 381', groups={'volume': '310', 'reporter': 'U.S.', 'page': '381'}, metadata=FullCaseCitation.Metadata(parenthetical=None, pin_cite='398', year=None, court='scotus', plaintiff='Co.', defendant='Adkins', extra=None))): [FullCaseCitation('310 U.S. 381', groups={'volume': '310', 'reporter': 'U.S.', 'page': '381'}, metadata=FullCaseCitation.Metadata(parenthetical=None, pin_cite='398', year=None, court='scotus', plaintiff='Co.', defendant='Adkins', extra=None))],\n              Resource(citation=FullCaseCitation('60 S.Ct. 907', groups={'volume': '60', 'reporter': 'S.Ct.', 'page': '907'}, metadata=FullCaseCitation.Metadata(parenthetical=None, pin_cite='914', year=None, court='scotus', plaintiff='Co.', defendant='Adkins, 310 U.S. 381, 398', extra=None))): [FullCaseCitation('60 S.Ct. 907', groups={'volume': '60', 'reporter': 'S.Ct.', 'page': '907'}, metadata=FullCaseCitation.Metadata(parenthetical=None, pin_cite='914', year=None, court='scotus', plaintiff='Co.', defendant='Adkins, 310 U.S. 381, 398', extra=None))],\n              Resource(citation=FullCaseCitation('84 L.Ed. 1263', groups={'volume': '84', 'reporter': 'L.Ed.', 'page': '1263'}, metadata=FullCaseCitation.Metadata(parenthetical=None, pin_cite=None, year=None, court=None, plaintiff='Co.', defendant='Adkins, 310 U.S. 381, 398, 60 S.Ct. 907, 914', extra=None))): [FullCaseCitation('84 L.Ed. 1263', groups={'volume': '84', 'reporter': 'L.Ed.', 'page': '1263'}, metadata=FullCaseCitation.Metadata(parenthetical=None, pin_cite=None, year=None, court=None, plaintiff='Co.', defendant='Adkins, 310 U.S. 381, 398, 60 S.Ct. 907, 914', extra=None))],\n              Resource(citation=FullCaseCitation('313 U.S. 177', groups={'volume': '313', 'reporter': 'U.S.', 'page': '177'}, metadata=FullCaseCitation.Metadata(parenthetical=None, pin_cite='194', year=None, court='scotus', plaintiff='Corp.', defendant='National Labor Relations Board', extra=None))): [FullCaseCitation('313 U.S. 177', groups={'volume': '313', 'reporter': 'U.S.', 'page': '177'}, metadata=FullCaseCitation.Metadata(parenthetical=None, pin_cite='194', year=None, court='scotus', plaintiff='Corp.', defendant='National Labor Relations Board', extra=None))],\n              Resource(citation=FullCaseCitation('61 S.Ct. 845', groups={'volume': '61', 'reporter': 'S.Ct.', 'page': '845'}, metadata=FullCaseCitation.Metadata(parenthetical=None, pin_cite=None, year=None, court='scotus', plaintiff='Corp.', defendant='National Labor Relations Board, 313 U.S. 177, 194', extra=None))): [FullCaseCitation('61 S.Ct. 845', groups={'volume': '61', 'reporter': 'S.Ct.', 'page': '845'}, metadata=FullCaseCitation.Metadata(parenthetical=None, pin_cite=None, year=None, court='scotus', plaintiff='Corp.', defendant='National Labor Relations Board, 313 U.S. 177, 194', extra=None))],\n              Resource(citation=FullCaseCitation('85 L.Ed. 1271', groups={'volume': '85', 'reporter': 'L.Ed.', 'page': '1271'}, metadata=FullCaseCitation.Metadata(parenthetical=None, pin_cite=None, year=None, court=None, plaintiff='Corp.', defendant='National Labor Relations Board, 313 U.S. 177, 194, 61 S.Ct. 845', extra=None))): [FullCaseCitation('85 L.Ed. 1271', groups={'volume': '85', 'reporter': 'L.Ed.', 'page': '1271'}, metadata=FullCaseCitation.Metadata(parenthetical=None, pin_cite=None, year=None, court=None, plaintiff='Corp.', defendant='National Labor Relations Board, 313 U.S. 177, 194, 61 S.Ct. 845', extra=None)),\n               FullCaseCitation('85 L.Ed. 1271', groups={'volume': '85', 'reporter': 'L.Ed.', 'page': '1271'}, metadata=FullCaseCitation.Metadata(parenthetical=None, pin_cite=None, year=None, court=None, plaintiff='Corp.', defendant='National Labor Relations Board, supra, 313 U.S. 194, 61 S.Ct. 852', extra=None))],\n              Resource(citation=FullCaseCitation('133 A.L.R. 1217', groups={'volume': '133', 'reporter': 'A.L.R.', 'page': '1217'}, metadata=FullCaseCitation.Metadata(parenthetical=None, pin_cite=None, year=None, court=None, plaintiff='Corp.', defendant='National Labor Relations Board, 313 U.S. 177, 194, 61 S.Ct. 845, 85 L.Ed. 1271', extra=None))): [FullCaseCitation('133 A.L.R. 1217', groups={'volume': '133', 'reporter': 'A.L.R.', 'page': '1217'}, metadata=FullCaseCitation.Metadata(parenthetical=None, pin_cite=None, year=None, court=None, plaintiff='Corp.', defendant='National Labor Relations Board, 313 U.S. 177, 194, 61 S.Ct. 845, 85 L.Ed. 1271', extra=None)),\n               FullCaseCitation('133 A.L.R. 1217', groups={'volume': '133', 'reporter': 'A.L.R.', 'page': '1217'}, metadata=FullCaseCitation.Metadata(parenthetical=None, pin_cite=None, year=None, court=None, plaintiff='Corp.', defendant='National Labor Relations Board, supra, 313 U.S. 194, 61 S.Ct. 852, 85 L.Ed. 1271', extra=None))],\n              Resource(citation=FullCaseCitation('179 U.S. 405', groups={'volume': '179', 'reporter': 'U.S.', 'page': '405'}, metadata=FullCaseCitation.Metadata(parenthetical=None, pin_cite='410', year=None, court='scotus', plaintiff='Tyler', defendant='Judges of Court of Registration', extra=None))): [FullCaseCitation('179 U.S. 405', groups={'volume': '179', 'reporter': 'U.S.', 'page': '405'}, metadata=FullCaseCitation.Metadata(parenthetical=None, pin_cite='410', year=None, court='scotus', plaintiff='Tyler', defendant='Judges of Court of Registration', extra=None))],\n              Resource(citation=FullCaseCitation('21 S.Ct. 206', groups={'volume': '21', 'reporter': 'S.Ct.', 'page': '206'}, metadata=FullCaseCitation.Metadata(parenthetical=None, pin_cite='208', year=None, court='scotus', plaintiff='Tyler', defendant='Judges of Court of Registration, 179 U.S. 405, 410', extra=None))): [FullCaseCitation('21 S.Ct. 206', groups={'volume': '21', 'reporter': 'S.Ct.', 'page': '206'}, metadata=FullCaseCitation.Metadata(parenthetical=None, pin_cite='208', year=None, court='scotus', plaintiff='Tyler', defendant='Judges of Court of Registration, 179 U.S. 405, 410', extra=None))],\n              Resource(citation=FullCaseCitation('45 L.Ed. 252', groups={'volume': '45', 'reporter': 'L.Ed.', 'page': '252'}, metadata=FullCaseCitation.Metadata(parenthetical=None, pin_cite=None, year=None, court=None, plaintiff='Tyler', defendant='Judges of Court of Registration, 179 U.S. 405, 410, 21 S.Ct. 206, 208', extra=None))): [FullCaseCitation('45 L.Ed. 252', groups={'volume': '45', 'reporter': 'L.Ed.', 'page': '252'}, metadata=FullCaseCitation.Metadata(parenthetical=None, pin_cite=None, year=None, court=None, plaintiff='Tyler', defendant='Judges of Court of Registration, 179 U.S. 405, 410, 21 S.Ct. 206, 208', extra=None))],\n              Resource(citation=FullCaseCitation('204 U.S. 152', groups={'volume': '204', 'reporter': 'U.S.', 'page': '152'}, metadata=FullCaseCitation.Metadata(parenthetical=None, pin_cite='160', year=None, court='scotus', plaintiff='Hatch', defendant='Reardon', extra=None))): [FullCaseCitation('204 U.S. 152', groups={'volume': '204', 'reporter': 'U.S.', 'page': '152'}, metadata=FullCaseCitation.Metadata(parenthetical=None, pin_cite='160', year=None, court='scotus', plaintiff='Hatch', defendant='Reardon', extra=None))],\n              Resource(citation=FullCaseCitation('27 S.Ct. 188', groups={'volume': '27', 'reporter': 'S.Ct.', 'page': '188'}, metadata=FullCaseCitation.Metadata(parenthetical=None, pin_cite='190', year=None, court='scotus', plaintiff='Hatch', defendant='Reardon, 204 U.S. 152, 160', extra=None))): [FullCaseCitation('27 S.Ct. 188', groups={'volume': '27', 'reporter': 'S.Ct.', 'page': '188'}, metadata=FullCaseCitation.Metadata(parenthetical=None, pin_cite='190', year=None, court='scotus', plaintiff='Hatch', defendant='Reardon, 204 U.S. 152, 160', extra=None))],\n              Resource(citation=FullCaseCitation('51 L.Ed. 415', groups={'volume': '51', 'reporter': 'L.Ed.', 'page': '415'}, metadata=FullCaseCitation.Metadata(parenthetical=None, pin_cite=None, year=None, court=None, plaintiff='Hatch', defendant='Reardon, 204 U.S. 152, 160, 27 S.Ct. 188, 190', extra=None))): [FullCaseCitation('51 L.Ed. 415', groups={'volume': '51', 'reporter': 'L.Ed.', 'page': '415'}, metadata=FullCaseCitation.Metadata(parenthetical=None, pin_cite=None, year=None, court=None, plaintiff='Hatch', defendant='Reardon, 204 U.S. 152, 160, 27 S.Ct. 188, 190', extra=None))],\n              Resource(citation=FullCaseCitation('189 U.S. 86', groups={'volume': '189', 'reporter': 'U.S.', 'page': '86'}, metadata=FullCaseCitation.Metadata(parenthetical=None, pin_cite='100, 101', year=None, court='scotus', plaintiff=None, defendant='The Japanese Immigrant Case', extra=None))): [FullCaseCitation('189 U.S. 86', groups={'volume': '189', 'reporter': 'U.S.', 'page': '86'}, metadata=FullCaseCitation.Metadata(parenthetical=None, pin_cite='100, 101', year=None, court='scotus', plaintiff=None, defendant='The Japanese Immigrant Case', extra=None))],\n              Resource(citation=FullCaseCitation('23 S.Ct. 611', groups={'volume': '23', 'reporter': 'S.Ct.', 'page': '611'}, metadata=FullCaseCitation.Metadata(parenthetical=None, pin_cite='614', year=None, court='scotus', plaintiff=None, defendant='The Japanese Immigrant Case, 189 U.S. 86, 100, 101', extra=None))): [FullCaseCitation('23 S.Ct. 611', groups={'volume': '23', 'reporter': 'S.Ct.', 'page': '611'}, metadata=FullCaseCitation.Metadata(parenthetical=None, pin_cite='614', year=None, court='scotus', plaintiff=None, defendant='The Japanese Immigrant Case, 189 U.S. 86, 100, 101', extra=None))],\n              Resource(citation=FullCaseCitation('47 L.Ed. 721', groups={'volume': '47', 'reporter': 'L.Ed.', 'page': '721'}, metadata=FullCaseCitation.Metadata(parenthetical=None, pin_cite=None, year=None, court=None, plaintiff=None, defendant='The Japanese Immigrant Case, 189 U.S. 86, 100, 101, 23 S.Ct. 611, 614', extra=None))): [FullCaseCitation('47 L.Ed. 721', groups={'volume': '47', 'reporter': 'L.Ed.', 'page': '721'}, metadata=FullCaseCitation.Metadata(parenthetical=None, pin_cite=None, year=None, court=None, plaintiff=None, defendant='The Japanese Immigrant Case, 189 U.S. 86, 100, 101, 23 S.Ct. 611, 614', extra=None))],\n              Resource(citation=FullCaseCitation('115 U.S. 321', groups={'volume': '115', 'reporter': 'U.S.', 'page': '321'}, metadata=FullCaseCitation.Metadata(parenthetical=None, pin_cite=None, year=None, court='scotus', plaintiff=None, defendant='Kentucky Railroad Tax Cases', extra=None))): [FullCaseCitation('115 U.S. 321', groups={'volume': '115', 'reporter': 'U.S.', 'page': '321'}, metadata=FullCaseCitation.Metadata(parenthetical=None, pin_cite=None, year=None, court='scotus', plaintiff=None, defendant='Kentucky Railroad Tax Cases', extra=None))],\n              Resource(citation=FullCaseCitation('6 S.Ct. 57', groups={'volume': '6', 'reporter': 'S.Ct.', 'page': '57'}, metadata=FullCaseCitation.Metadata(parenthetical=None, pin_cite=None, year=None, court='scotus', plaintiff=None, defendant='Kentucky Railroad Tax Cases, 115 U.S. 321', extra=None))): [FullCaseCitation('6 S.Ct. 57', groups={'volume': '6', 'reporter': 'S.Ct.', 'page': '57'}, metadata=FullCaseCitation.Metadata(parenthetical=None, pin_cite=None, year=None, court='scotus', plaintiff=None, defendant='Kentucky Railroad Tax Cases, 115 U.S. 321', extra=None))],\n              Resource(citation=FullCaseCitation('29 L.Ed. 414', groups={'volume': '29', 'reporter': 'L.Ed.', 'page': '414'}, metadata=FullCaseCitation.Metadata(parenthetical=None, pin_cite=None, year=None, court=None, plaintiff=None, defendant='Kentucky Railroad Tax Cases, 115 U.S. 321, 6 S.Ct. 57', extra=None))): [FullCaseCitation('29 L.Ed. 414', groups={'volume': '29', 'reporter': 'L.Ed.', 'page': '414'}, metadata=FullCaseCitation.Metadata(parenthetical=None, pin_cite=None, year=None, court=None, plaintiff=None, defendant='Kentucky Railroad Tax Cases, 115 U.S. 321, 6 S.Ct. 57', extra=None))],\n              Resource(citation=FullCaseCitation('260 U.S. 110', groups={'volume': '260', 'reporter': 'U.S.', 'page': '110'}, metadata=FullCaseCitation.Metadata(parenthetical=None, pin_cite=None, year=None, court='scotus', plaintiff='Bratton', defendant='Chandler', extra=None))): [FullCaseCitation('260 U.S. 110', groups={'volume': '260', 'reporter': 'U.S.', 'page': '110'}, metadata=FullCaseCitation.Metadata(parenthetical=None, pin_cite=None, year=None, court='scotus', plaintiff='Bratton', defendant='Chandler', extra=None))],\n              Resource(citation=FullCaseCitation('43 S.Ct. 43', groups={'volume': '43', 'reporter': 'S.Ct.', 'page': '43'}, metadata=FullCaseCitation.Metadata(parenthetical=None, pin_cite=None, year=None, court='scotus', plaintiff='Bratton', defendant='Chandler, 260 U.S. 110', extra=None))): [FullCaseCitation('43 S.Ct. 43', groups={'volume': '43', 'reporter': 'S.Ct.', 'page': '43'}, metadata=FullCaseCitation.Metadata(parenthetical=None, pin_cite=None, year=None, court='scotus', plaintiff='Bratton', defendant='Chandler, 260 U.S. 110', extra=None))],\n              Resource(citation=FullCaseCitation('67 L.Ed. 157', groups={'volume': '67', 'reporter': 'L.Ed.', 'page': '157'}, metadata=FullCaseCitation.Metadata(parenthetical=None, pin_cite=None, year=None, court=None, plaintiff='Bratton', defendant='Chandler, 260 U.S. 110, 43 S.Ct. 43', extra=None))): [FullCaseCitation('67 L.Ed. 157', groups={'volume': '67', 'reporter': 'L.Ed.', 'page': '157'}, metadata=FullCaseCitation.Metadata(parenthetical=None, pin_cite=None, year=None, court=None, plaintiff='Bratton', defendant='Chandler, 260 U.S. 110, 43 S.Ct. 43', extra=None))],\n              Resource(citation=FullCaseCitation('281 U.S. 643', groups={'volume': '281', 'reporter': 'U.S.', 'page': '643'}, metadata=FullCaseCitation.Metadata(parenthetical=None, pin_cite=None, year=None, court='scotus', plaintiff='Toombs', defendant=\"Citizens' Bank of Waynesboro\", extra=None))): [FullCaseCitation('281 U.S. 643', groups={'volume': '281', 'reporter': 'U.S.', 'page': '643'}, metadata=FullCaseCitation.Metadata(parenthetical=None, pin_cite=None, year=None, court='scotus', plaintiff='Toombs', defendant=\"Citizens' Bank of Waynesboro\", extra=None))],\n              Resource(citation=FullCaseCitation('50 S.Ct. 434', groups={'volume': '50', 'reporter': 'S.Ct.', 'page': '434'}, metadata=FullCaseCitation.Metadata(parenthetical=None, pin_cite=None, year=None, court='scotus', plaintiff='Toombs', defendant=\"Citizens' Bank of Waynesboro, 281 U.S. 643\", extra=None))): [FullCaseCitation('50 S.Ct. 434', groups={'volume': '50', 'reporter': 'S.Ct.', 'page': '434'}, metadata=FullCaseCitation.Metadata(parenthetical=None, pin_cite=None, year=None, court='scotus', plaintiff='Toombs', defendant=\"Citizens' Bank of Waynesboro, 281 U.S. 643\", extra=None))],\n              Resource(citation=FullCaseCitation('74 L.Ed. 1088', groups={'volume': '74', 'reporter': 'L.Ed.', 'page': '1088'}, metadata=FullCaseCitation.Metadata(parenthetical=None, pin_cite=None, year=None, court=None, plaintiff='Toombs', defendant=\"Citizens' Bank of Waynesboro, 281 U.S. 643, 50 S.Ct. 434\", extra=None))): [FullCaseCitation('74 L.Ed. 1088', groups={'volume': '74', 'reporter': 'L.Ed.', 'page': '1088'}, metadata=FullCaseCitation.Metadata(parenthetical=None, pin_cite=None, year=None, court=None, plaintiff='Toombs', defendant=\"Citizens' Bank of Waynesboro, 281 U.S. 643, 50 S.Ct. 434\", extra=None))],\n              Resource(citation=FullCaseCitation('237 U.S. 413', groups={'volume': '237', 'reporter': 'U.S.', 'page': '413'}, metadata=FullCaseCitation.Metadata(parenthetical=None, pin_cite=None, year=None, court='scotus', plaintiff='Coe', defendant='Armour Fertilizer Works', extra=None))): [FullCaseCitation('237 U.S. 413', groups={'volume': '237', 'reporter': 'U.S.', 'page': '413'}, metadata=FullCaseCitation.Metadata(parenthetical=None, pin_cite=None, year=None, court='scotus', plaintiff='Coe', defendant='Armour Fertilizer Works', extra=None))],\n              Resource(citation=FullCaseCitation('35 S.Ct. 625', groups={'volume': '35', 'reporter': 'S.Ct.', 'page': '625'}, metadata=FullCaseCitation.Metadata(parenthetical=None, pin_cite=None, year=None, court='scotus', plaintiff='Coe', defendant='Armour Fertilizer Works, 237 U.S. 413', extra=None))): [FullCaseCitation('35 S.Ct. 625', groups={'volume': '35', 'reporter': 'S.Ct.', 'page': '625'}, metadata=FullCaseCitation.Metadata(parenthetical=None, pin_cite=None, year=None, court='scotus', plaintiff='Coe', defendant='Armour Fertilizer Works, 237 U.S. 413', extra=None))],\n              Resource(citation=FullCaseCitation('59 L.Ed. 1027', groups={'volume': '59', 'reporter': 'L.Ed.', 'page': '1027'}, metadata=FullCaseCitation.Metadata(parenthetical=None, pin_cite=None, year=None, court=None, plaintiff='Coe', defendant='Armour Fertilizer Works, 237 U.S. 413, 35 S.Ct. 625', extra=None))): [FullCaseCitation('59 L.Ed. 1027', groups={'volume': '59', 'reporter': 'L.Ed.', 'page': '1027'}, metadata=FullCaseCitation.Metadata(parenthetical=None, pin_cite=None, year=None, court=None, plaintiff='Coe', defendant='Armour Fertilizer Works, 237 U.S. 413, 35 S.Ct. 625', extra=None))],\n              Resource(citation=FullCaseCitation('276 U.S. 13', groups={'volume': '276', 'reporter': 'U.S.', 'page': '13'}, metadata=FullCaseCitation.Metadata(parenthetical=None, pin_cite=None, year=None, court='scotus', plaintiff='Wuchter', defendant='Pizzutti', extra=None))): [FullCaseCitation('276 U.S. 13', groups={'volume': '276', 'reporter': 'U.S.', 'page': '13'}, metadata=FullCaseCitation.Metadata(parenthetical=None, pin_cite=None, year=None, court='scotus', plaintiff='Wuchter', defendant='Pizzutti', extra=None))],\n              Resource(citation=FullCaseCitation('48 S.Ct. 259', groups={'volume': '48', 'reporter': 'S.Ct.', 'page': '259'}, metadata=FullCaseCitation.Metadata(parenthetical=None, pin_cite=None, year=None, court='scotus', plaintiff='Wuchter', defendant='Pizzutti, 276 U.S. 13', extra=None))): [FullCaseCitation('48 S.Ct. 259', groups={'volume': '48', 'reporter': 'S.Ct.', 'page': '259'}, metadata=FullCaseCitation.Metadata(parenthetical=None, pin_cite=None, year=None, court='scotus', plaintiff='Wuchter', defendant='Pizzutti, 276 U.S. 13', extra=None))],\n              Resource(citation=FullCaseCitation('72 L.Ed. 446', groups={'volume': '72', 'reporter': 'L.Ed.', 'page': '446'}, metadata=FullCaseCitation.Metadata(parenthetical=None, pin_cite=None, year=None, court=None, plaintiff='Wuchter', defendant='Pizzutti, 276 U.S. 13, 48 S.Ct. 259', extra=None))): [FullCaseCitation('72 L.Ed. 446', groups={'volume': '72', 'reporter': 'L.Ed.', 'page': '446'}, metadata=FullCaseCitation.Metadata(parenthetical=None, pin_cite=None, year=None, court=None, plaintiff='Wuchter', defendant='Pizzutti, 276 U.S. 13, 48 S.Ct. 259', extra=None))],\n              Resource(citation=FullCaseCitation('57 A.L.R. 1230', groups={'volume': '57', 'reporter': 'A.L.R.', 'page': '1230'}, metadata=FullCaseCitation.Metadata(parenthetical=None, pin_cite=None, year=None, court=None, plaintiff='Wuchter', defendant='Pizzutti, 276 U.S. 13, 48 S.Ct. 259, 72 L.Ed. 446', extra=None))): [FullCaseCitation('57 A.L.R. 1230', groups={'volume': '57', 'reporter': 'A.L.R.', 'page': '1230'}, metadata=FullCaseCitation.Metadata(parenthetical=None, pin_cite=None, year=None, court=None, plaintiff='Wuchter', defendant='Pizzutti, 276 U.S. 13, 48 S.Ct. 259, 72 L.Ed. 446', extra=None))],\n              Resource(citation=FullCaseCitation('313 U.S. 194', groups={'volume': '313', 'reporter': 'U.S.', 'page': '194'}, metadata=FullCaseCitation.Metadata(parenthetical=None, pin_cite=None, year=None, court='scotus', plaintiff='Corp.', defendant='National Labor Relations Board, supra', extra=None))): [FullCaseCitation('313 U.S. 194', groups={'volume': '313', 'reporter': 'U.S.', 'page': '194'}, metadata=FullCaseCitation.Metadata(parenthetical=None, pin_cite=None, year=None, court='scotus', plaintiff='Corp.', defendant='National Labor Relations Board, supra', extra=None))],\n              Resource(citation=FullCaseCitation('61 S.Ct. 852', groups={'volume': '61', 'reporter': 'S.Ct.', 'page': '852'}, metadata=FullCaseCitation.Metadata(parenthetical=None, pin_cite=None, year=None, court='scotus', plaintiff='Corp.', defendant='National Labor Relations Board, supra, 313 U.S. 194', extra=None))): [FullCaseCitation('61 S.Ct. 852', groups={'volume': '61', 'reporter': 'S.Ct.', 'page': '852'}, metadata=FullCaseCitation.Metadata(parenthetical=None, pin_cite=None, year=None, court='scotus', plaintiff='Corp.', defendant='National Labor Relations Board, supra, 313 U.S. 194', extra=None))],\n              Resource(citation=FullCaseCitation('327 U.S. 608', groups={'volume': '327', 'reporter': 'U.S.', 'page': '608'}, metadata=FullCaseCitation.Metadata(parenthetical=None, pin_cite=None, year=None, court='scotus', plaintiff='Co.', defendant='Federal Trade Commission', extra=None))): [FullCaseCitation('327 U.S. 608', groups={'volume': '327', 'reporter': 'U.S.', 'page': '608'}, metadata=FullCaseCitation.Metadata(parenthetical=None, pin_cite=None, year=None, court='scotus', plaintiff='Co.', defendant='Federal Trade Commission', extra=None))],\n              Resource(citation=FullCaseCitation('66 S.Ct. 758', groups={'volume': '66', 'reporter': 'S.Ct.', 'page': '758'}, metadata=FullCaseCitation.Metadata(parenthetical=None, pin_cite=None, year=None, court='scotus', plaintiff='Co.', defendant='Federal Trade Commission, 327 U.S. 608', extra=None))): [FullCaseCitation('66 S.Ct. 758', groups={'volume': '66', 'reporter': 'S.Ct.', 'page': '758'}, metadata=FullCaseCitation.Metadata(parenthetical=None, pin_cite=None, year=None, court='scotus', plaintiff='Co.', defendant='Federal Trade Commission, 327 U.S. 608', extra=None))],\n              Resource(citation=FullLawCitation('49 Stat. 803', groups={'volume': '49', 'reporter': 'Stat.', 'page': '803'}, metadata=FullLawCitation.Metadata(parenthetical=None, pin_cite=None, year=None, publisher=None, day=None, month=None))): [FullLawCitation('49 Stat. 803', groups={'volume': '49', 'reporter': 'Stat.', 'page': '803'}, metadata=FullLawCitation.Metadata(parenthetical=None, pin_cite=None, year=None, publisher=None, day=None, month=None)),\n               FullLawCitation('49 Stat. 803', groups={'volume': '49', 'reporter': 'Stat.', 'page': '803'}, metadata=FullLawCitation.Metadata(parenthetical=None, pin_cite=None, year=None, publisher=None, day=None, month=None)),\n               FullLawCitation('49 Stat. 803', groups={'volume': '49', 'reporter': 'Stat.', 'page': '803'}, metadata=FullLawCitation.Metadata(parenthetical=None, pin_cite=None, year=None, publisher=None, day=None, month=None))],\n              Resource(citation=FullCaseCitation('134 F.2d 747', groups={'volume': '134', 'reporter': 'F.2d', 'page': '747'}, metadata=FullCaseCitation.Metadata(parenthetical=None, pin_cite='751', year=None, court=None, plaintiff='Corp.', defendant='S.E.C., 3 Cir.', extra=None))): [FullCaseCitation('134 F.2d 747', groups={'volume': '134', 'reporter': 'F.2d', 'page': '747'}, metadata=FullCaseCitation.Metadata(parenthetical=None, pin_cite='751', year=None, court=None, plaintiff='Corp.', defendant='S.E.C., 3 Cir.', extra=None))],\n              Resource(citation=FullCaseCitation('264 U.S. 258', groups={'volume': '264', 'reporter': 'U.S.', 'page': '258'}, metadata=FullCaseCitation.Metadata(parenthetical=None, pin_cite='264, 265', year=None, court='scotus', plaintiff=None, defendant='Chicago Junction Case', extra=None))): [FullCaseCitation('264 U.S. 258', groups={'volume': '264', 'reporter': 'U.S.', 'page': '258'}, metadata=FullCaseCitation.Metadata(parenthetical=None, pin_cite='264, 265', year=None, court='scotus', plaintiff=None, defendant='Chicago Junction Case', extra=None))],\n              Resource(citation=FullCaseCitation('44 S.Ct. 317', groups={'volume': '44', 'reporter': 'S.Ct.', 'page': '317'}, metadata=FullCaseCitation.Metadata(parenthetical=None, pin_cite='319', year=None, court='scotus', plaintiff=None, defendant='Chicago Junction Case, 264 U.S. 258, 264, 265', extra=None))): [FullCaseCitation('44 S.Ct. 317', groups={'volume': '44', 'reporter': 'S.Ct.', 'page': '317'}, metadata=FullCaseCitation.Metadata(parenthetical=None, pin_cite='319', year=None, court='scotus', plaintiff=None, defendant='Chicago Junction Case, 264 U.S. 258, 264, 265', extra=None))],\n              Resource(citation=FullCaseCitation('68 L.Ed. 667', groups={'volume': '68', 'reporter': 'L.Ed.', 'page': '667'}, metadata=FullCaseCitation.Metadata(parenthetical=None, pin_cite=None, year=None, court=None, plaintiff=None, defendant='Chicago Junction Case, 264 U.S. 258, 264, 265, 44 S.Ct. 317, 319', extra=None))): [FullCaseCitation('68 L.Ed. 667', groups={'volume': '68', 'reporter': 'L.Ed.', 'page': '667'}, metadata=FullCaseCitation.Metadata(parenthetical=None, pin_cite=None, year=None, court=None, plaintiff=None, defendant='Chicago Junction Case, 264 U.S. 258, 264, 265, 44 S.Ct. 317, 319', extra=None))],\n              Resource(citation=FullCaseCitation('326 U.S. 327', groups={'volume': '326', 'reporter': 'U.S.', 'page': '327'}, metadata=FullCaseCitation.Metadata(parenthetical=None, pin_cite=None, year=None, court='scotus', plaintiff='Corp.', defendant='Federal Communications Commission', extra=None))): [FullCaseCitation('326 U.S. 327', groups={'volume': '326', 'reporter': 'U.S.', 'page': '327'}, metadata=FullCaseCitation.Metadata(parenthetical=None, pin_cite=None, year=None, court='scotus', plaintiff='Corp.', defendant='Federal Communications Commission', extra=None))],\n              Resource(citation=FullCaseCitation('66 S.Ct. 148', groups={'volume': '66', 'reporter': 'S.Ct.', 'page': '148'}, metadata=FullCaseCitation.Metadata(parenthetical=None, pin_cite=None, year=None, court='scotus', plaintiff='Corp.', defendant='Federal Communications Commission, 326 U.S. 327', extra=None))): [FullCaseCitation('66 S.Ct. 148', groups={'volume': '66', 'reporter': 'S.Ct.', 'page': '148'}, metadata=FullCaseCitation.Metadata(parenthetical=None, pin_cite=None, year=None, court='scotus', plaintiff='Corp.', defendant='Federal Communications Commission, 326 U.S. 327', extra=None))],\n              Resource(citation=FullCaseCitation('323 U.S. 624', groups={'volume': '323', 'reporter': 'U.S.', 'page': '624'}, metadata=FullCaseCitation.Metadata(parenthetical=None, pin_cite=None, year=None, court='scotus', plaintiff='Co.', defendant='S.E.C.', extra=None))): [FullCaseCitation('323 U.S. 624', groups={'volume': '323', 'reporter': 'U.S.', 'page': '624'}, metadata=FullCaseCitation.Metadata(parenthetical=None, pin_cite=None, year=None, court='scotus', plaintiff='Co.', defendant='S.E.C.', extra=None))],\n              Resource(citation=FullCaseCitation('65 S.Ct. 483', groups={'volume': '65', 'reporter': 'S.Ct.', 'page': '483'}, metadata=FullCaseCitation.Metadata(parenthetical=None, pin_cite=None, year=None, court='scotus', plaintiff='Co.', defendant='S.E.C., 323 U.S. 624', extra=None))): [FullCaseCitation('65 S.Ct. 483', groups={'volume': '65', 'reporter': 'S.Ct.', 'page': '483'}, metadata=FullCaseCitation.Metadata(parenthetical=None, pin_cite=None, year=None, court='scotus', plaintiff='Co.', defendant='S.E.C., 323 U.S. 624', extra=None))],\n              Resource(citation=FullCaseCitation('89 L.Ed. 511', groups={'volume': '89', 'reporter': 'L.Ed.', 'page': '511'}, metadata=FullCaseCitation.Metadata(parenthetical=None, pin_cite=None, year=None, court=None, plaintiff='Co.', defendant='S.E.C., 323 U.S. 624, 65 S.Ct. 483', extra=None))): [FullCaseCitation('89 L.Ed. 511', groups={'volume': '89', 'reporter': 'L.Ed.', 'page': '511'}, metadata=FullCaseCitation.Metadata(parenthetical=None, pin_cite=None, year=None, court=None, plaintiff='Co.', defendant='S.E.C., 323 U.S. 624, 65 S.Ct. 483', extra=None))],\n              Resource(citation=FullCaseCitation('193 U.S. 197', groups={'volume': '193', 'reporter': 'U.S.', 'page': '197'}, metadata=FullCaseCitation.Metadata(parenthetical=None, pin_cite=None, year=None, court='scotus', plaintiff='Co.', defendant='United States', extra=None))): [FullCaseCitation('193 U.S. 197', groups={'volume': '193', 'reporter': 'U.S.', 'page': '197'}, metadata=FullCaseCitation.Metadata(parenthetical=None, pin_cite=None, year=None, court='scotus', plaintiff='Co.', defendant='United States', extra=None))],\n              Resource(citation=FullCaseCitation('24 S.Ct. 436', groups={'volume': '24', 'reporter': 'S.Ct.', 'page': '436'}, metadata=FullCaseCitation.Metadata(parenthetical=None, pin_cite=None, year=None, court='scotus', plaintiff='Co.', defendant='United States, 193 U.S. 197', extra=None))): [FullCaseCitation('24 S.Ct. 436', groups={'volume': '24', 'reporter': 'S.Ct.', 'page': '436'}, metadata=FullCaseCitation.Metadata(parenthetical=None, pin_cite=None, year=None, court='scotus', plaintiff='Co.', defendant='United States, 193 U.S. 197', extra=None))],\n              Resource(citation=FullCaseCitation('48 L.Ed. 679', groups={'volume': '48', 'reporter': 'L.Ed.', 'page': '679'}, metadata=FullCaseCitation.Metadata(parenthetical=None, pin_cite=None, year=None, court=None, plaintiff='Co.', defendant='United States, 193 U.S. 197, 24 S.Ct. 436', extra=None))): [FullCaseCitation('48 L.Ed. 679', groups={'volume': '48', 'reporter': 'L.Ed.', 'page': '679'}, metadata=FullCaseCitation.Metadata(parenthetical=None, pin_cite=None, year=None, court=None, plaintiff='Co.', defendant='United States, 193 U.S. 197, 24 S.Ct. 436', extra=None))],\n              Resource(citation=FullCaseCitation('221 U.S. 1', groups={'volume': '221', 'reporter': 'U.S.', 'page': '1'}, metadata=FullCaseCitation.Metadata(parenthetical=None, pin_cite=None, year=None, court='scotus', plaintiff='Jersey', defendant='United States', extra=None))): [FullCaseCitation('221 U.S. 1', groups={'volume': '221', 'reporter': 'U.S.', 'page': '1'}, metadata=FullCaseCitation.Metadata(parenthetical=None, pin_cite=None, year=None, court='scotus', plaintiff='Jersey', defendant='United States', extra=None))],\n              Resource(citation=FullCaseCitation('31 S.Ct. 502', groups={'volume': '31', 'reporter': 'S.Ct.', 'page': '502'}, metadata=FullCaseCitation.Metadata(parenthetical=None, pin_cite=None, year=None, court='scotus', plaintiff='Jersey', defendant='United States, 221 U.S. 1', extra=None))): [FullCaseCitation('31 S.Ct. 502', groups={'volume': '31', 'reporter': 'S.Ct.', 'page': '502'}, metadata=FullCaseCitation.Metadata(parenthetical=None, pin_cite=None, year=None, court='scotus', plaintiff='Jersey', defendant='United States, 221 U.S. 1', extra=None))],\n              Resource(citation=FullCaseCitation('55 L.Ed. 619', groups={'volume': '55', 'reporter': 'L.Ed.', 'page': '619'}, metadata=FullCaseCitation.Metadata(parenthetical=None, pin_cite=None, year=None, court=None, plaintiff='Jersey', defendant='United States, 221 U.S. 1, 31 S.Ct. 502', extra=None))): [FullCaseCitation('55 L.Ed. 619', groups={'volume': '55', 'reporter': 'L.Ed.', 'page': '619'}, metadata=FullCaseCitation.Metadata(parenthetical=None, pin_cite=None, year=None, court=None, plaintiff='Jersey', defendant='United States, 221 U.S. 1, 31 S.Ct. 502', extra=None))],\n              Resource(citation=FullCaseCitation('221 U.S. 106', groups={'volume': '221', 'reporter': 'U.S.', 'page': '106'}, metadata=FullCaseCitation.Metadata(parenthetical=None, pin_cite=None, year=None, court='scotus', plaintiff='States', defendant='American Tobacco Co.', extra=None))): [FullCaseCitation('221 U.S. 106', groups={'volume': '221', 'reporter': 'U.S.', 'page': '106'}, metadata=FullCaseCitation.Metadata(parenthetical=None, pin_cite=None, year=None, court='scotus', plaintiff='States', defendant='American Tobacco Co.', extra=None))],\n              Resource(citation=FullCaseCitation('31 S.Ct. 632', groups={'volume': '31', 'reporter': 'S.Ct.', 'page': '632'}, metadata=FullCaseCitation.Metadata(parenthetical=None, pin_cite=None, year=None, court='scotus', plaintiff='States', defendant='American Tobacco Co., 221 U.S. 106', extra=None))): [FullCaseCitation('31 S.Ct. 632', groups={'volume': '31', 'reporter': 'S.Ct.', 'page': '632'}, metadata=FullCaseCitation.Metadata(parenthetical=None, pin_cite=None, year=None, court='scotus', plaintiff='States', defendant='American Tobacco Co., 221 U.S. 106', extra=None))],\n              Resource(citation=FullCaseCitation('55 L.Ed. 663', groups={'volume': '55', 'reporter': 'L.Ed.', 'page': '663'}, metadata=FullCaseCitation.Metadata(parenthetical=None, pin_cite=None, year=None, court=None, plaintiff='States', defendant='American Tobacco Co., 221 U.S. 106, 31 S.Ct. 632', extra=None))): [FullCaseCitation('55 L.Ed. 663', groups={'volume': '55', 'reporter': 'L.Ed.', 'page': '663'}, metadata=FullCaseCitation.Metadata(parenthetical=None, pin_cite=None, year=None, court=None, plaintiff='States', defendant='American Tobacco Co., 221 U.S. 106, 31 S.Ct. 632', extra=None))],\n              Resource(citation=FullCaseCitation('253 U.S. 26', groups={'volume': '253', 'reporter': 'U.S.', 'page': '26'}, metadata=FullCaseCitation.Metadata(parenthetical=None, pin_cite=None, year=None, court='scotus', plaintiff='States', defendant='Reading Co.', extra=None))): [FullCaseCitation('253 U.S. 26', groups={'volume': '253', 'reporter': 'U.S.', 'page': '26'}, metadata=FullCaseCitation.Metadata(parenthetical=None, pin_cite=None, year=None, court='scotus', plaintiff='States', defendant='Reading Co.', extra=None))],\n              Resource(citation=FullCaseCitation('40 S.Ct. 425', groups={'volume': '40', 'reporter': 'S.Ct.', 'page': '425'}, metadata=FullCaseCitation.Metadata(parenthetical=None, pin_cite=None, year=None, court='scotus', plaintiff='States', defendant='Reading Co., 253 U.S. 26', extra=None))): [FullCaseCitation('40 S.Ct. 425', groups={'volume': '40', 'reporter': 'S.Ct.', 'page': '425'}, metadata=FullCaseCitation.Metadata(parenthetical=None, pin_cite=None, year=None, court='scotus', plaintiff='States', defendant='Reading Co., 253 U.S. 26', extra=None))],\n              Resource(citation=FullCaseCitation('64 L.Ed. 760', groups={'volume': '64', 'reporter': 'L.Ed.', 'page': '760'}, metadata=FullCaseCitation.Metadata(parenthetical=None, pin_cite=None, year=None, court=None, plaintiff='States', defendant='Reading Co., 253 U.S. 26, 40 S.Ct. 425', extra=None))): [FullCaseCitation('64 L.Ed. 760', groups={'volume': '64', 'reporter': 'L.Ed.', 'page': '760'}, metadata=FullCaseCitation.Metadata(parenthetical=None, pin_cite=None, year=None, court=None, plaintiff='States', defendant='Reading Co., 253 U.S. 26, 40 S.Ct. 425', extra=None))],\n              Resource(citation=FullCaseCitation('213 U.S. 366', groups={'volume': '213', 'reporter': 'U.S.', 'page': '366'}, metadata=FullCaseCitation.Metadata(parenthetical=None, pin_cite=None, year=None, court='scotus', plaintiff='States', defendant='Delaware & Hudson Co.', extra=None))): [FullCaseCitation('213 U.S. 366', groups={'volume': '213', 'reporter': 'U.S.', 'page': '366'}, metadata=FullCaseCitation.Metadata(parenthetical=None, pin_cite=None, year=None, court='scotus', plaintiff='States', defendant='Delaware & Hudson Co.', extra=None))],\n              Resource(citation=FullCaseCitation('29 S.Ct. 527', groups={'volume': '29', 'reporter': 'S.Ct.', 'page': '527'}, metadata=FullCaseCitation.Metadata(parenthetical=None, pin_cite=None, year=None, court='scotus', plaintiff='States', defendant='Delaware & Hudson Co., 213 U.S. 366', extra=None))): [FullCaseCitation('29 S.Ct. 527', groups={'volume': '29', 'reporter': 'S.Ct.', 'page': '527'}, metadata=FullCaseCitation.Metadata(parenthetical=None, pin_cite=None, year=None, court='scotus', plaintiff='States', defendant='Delaware & Hudson Co., 213 U.S. 366', extra=None))],\n              Resource(citation=FullCaseCitation('53 L.Ed. 836', groups={'volume': '53', 'reporter': 'L.Ed.', 'page': '836'}, metadata=FullCaseCitation.Metadata(parenthetical=None, pin_cite=None, year=None, court=None, plaintiff='States', defendant='Delaware & Hudson Co., 213 U.S. 366, 29 S.Ct. 527', extra=None))): [FullCaseCitation('53 L.Ed. 836', groups={'volume': '53', 'reporter': 'L.Ed.', 'page': '836'}, metadata=FullCaseCitation.Metadata(parenthetical=None, pin_cite=None, year=None, court=None, plaintiff='States', defendant='Delaware & Hudson Co., 213 U.S. 366, 29 S.Ct. 527', extra=None))],\n              Resource(citation=FullLawCitation('49 Stat. 801', groups={'volume': '49', 'reporter': 'Stat.', 'page': '801'}, metadata=FullLawCitation.Metadata(parenthetical=None, pin_cite=None, year=None, publisher=None, day=None, month=None))): [FullLawCitation('49 Stat. 801', groups={'volume': '49', 'reporter': 'Stat.', 'page': '801'}, metadata=FullLawCitation.Metadata(parenthetical=None, pin_cite=None, year=None, publisher=None, day=None, month=None))]}))"
     },
     "execution_count": 70,
     "metadata": {},
     "output_type": "execute_result"
    }
   ],
   "source": [
    "list(resolved.items())[-1]"
   ],
   "metadata": {
    "collapsed": false,
    "ExecuteTime": {
     "end_time": "2024-02-18T19:09:23.846757Z",
     "start_time": "2024-02-18T19:09:23.822068Z"
    }
   },
   "id": "d2bd1464bff8bb74",
   "execution_count": 70
  },
  {
   "cell_type": "code",
   "outputs": [
    {
     "data": {
      "text/plain": "defaultdict(list,\n            {Resource(citation=FullCaseCitation('329 U.S. 29', groups={'volume': '329', 'reporter': 'U.S.', 'page': '29'}, metadata=FullCaseCitation.Metadata(parenthetical=None, pin_cite=None, year=None, court='scotus', plaintiff=None, defendant=None, extra=None))): [FullCaseCitation('329 U.S. 29', groups={'volume': '329', 'reporter': 'U.S.', 'page': '29'}, metadata=FullCaseCitation.Metadata(parenthetical=None, pin_cite=None, year=None, court='scotus', plaintiff=None, defendant=None, extra=None))],\n             Resource(citation=FullCaseCitation('67 S.Ct. 1', groups={'volume': '67', 'reporter': 'S.Ct.', 'page': '1'}, metadata=FullCaseCitation.Metadata(parenthetical=None, pin_cite=None, year=None, court='scotus', plaintiff=None, defendant=None, extra=None))): [FullCaseCitation('67 S.Ct. 1', groups={'volume': '67', 'reporter': 'S.Ct.', 'page': '1'}, metadata=FullCaseCitation.Metadata(parenthetical=None, pin_cite=None, year=None, court='scotus', plaintiff=None, defendant=None, extra=None))],\n             Resource(citation=FullCaseCitation('91 L.Ed. 22', groups={'volume': '91', 'reporter': 'L.Ed.', 'page': '22'}, metadata=FullCaseCitation.Metadata(parenthetical=None, pin_cite=None, year=None, court=None, plaintiff=None, defendant=None, extra=None))): [FullCaseCitation('91 L.Ed. 22', groups={'volume': '91', 'reporter': 'L.Ed.', 'page': '22'}, metadata=FullCaseCitation.Metadata(parenthetical=None, pin_cite=None, year=None, court=None, plaintiff=None, defendant=None, extra=None))],\n             Resource(citation=FullCaseCitation('329 U.S. 831', groups={'volume': '329', 'reporter': 'U.S.', 'page': '831'}, metadata=FullCaseCitation.Metadata(parenthetical=None, pin_cite=None, year=None, court='scotus', plaintiff=None, defendant='', extra=None))): [FullCaseCitation('329 U.S. 831', groups={'volume': '329', 'reporter': 'U.S.', 'page': '831'}, metadata=FullCaseCitation.Metadata(parenthetical=None, pin_cite=None, year=None, court='scotus', plaintiff=None, defendant='', extra=None))],\n             Resource(citation=FullCaseCitation('67 S.Ct. 363', groups={'volume': '67', 'reporter': 'S.Ct.', 'page': '363'}, metadata=FullCaseCitation.Metadata(parenthetical=None, pin_cite=None, year=None, court='scotus', plaintiff=None, defendant='329 U.S. 831', extra=None))): [FullCaseCitation('67 S.Ct. 363', groups={'volume': '67', 'reporter': 'S.Ct.', 'page': '363'}, metadata=FullCaseCitation.Metadata(parenthetical=None, pin_cite=None, year=None, court='scotus', plaintiff=None, defendant='329 U.S. 831', extra=None))],\n             Resource(citation=FullLawCitation('28 U.S.C. § 345', groups={'title': '28', 'reporter': 'U.S.C.', 'section': '345'}, metadata=FullLawCitation.Metadata(parenthetical=None, pin_cite=None, year=None, publisher=None, day=None, month=None))): [FullLawCitation('28 U.S.C. § 345', groups={'title': '28', 'reporter': 'U.S.C.', 'section': '345'}, metadata=FullLawCitation.Metadata(parenthetical=None, pin_cite=None, year=None, publisher=None, day=None, month=None))],\n             Resource(citation=FullLawCitation('28 U.S.C.A. § 345', groups={'title': '28', 'reporter': 'U.S.C.A.', 'section': '345'}, metadata=FullLawCitation.Metadata(parenthetical=None, pin_cite=None, year=None, publisher=None, day=None, month=None))): [FullLawCitation('28 U.S.C.A. § 345', groups={'title': '28', 'reporter': 'U.S.C.A.', 'section': '345'}, metadata=FullLawCitation.Metadata(parenthetical=None, pin_cite=None, year=None, publisher=None, day=None, month=None))],\n             Resource(citation=FullCaseCitation('234 U.S. 548', groups={'volume': '234', 'reporter': 'U.S.', 'page': '548'}, metadata=FullCaseCitation.Metadata(parenthetical=None, pin_cite=None, year=None, court='scotus', plaintiff=None, defendant=None, extra=None))): [FullCaseCitation('234 U.S. 548', groups={'volume': '234', 'reporter': 'U.S.', 'page': '548'}, metadata=FullCaseCitation.Metadata(parenthetical=None, pin_cite=None, year=None, court='scotus', plaintiff=None, defendant=None, extra=None)),\n              FullCaseCitation('234 U.S. 548', groups={'volume': '234', 'reporter': 'U.S.', 'page': '548'}, metadata=FullCaseCitation.Metadata(parenthetical=None, pin_cite='562', year=None, court='scotus', plaintiff=None, defendant=None, extra=None)),\n              FullCaseCitation('234 U.S. 548', groups={'volume': '234', 'reporter': 'U.S.', 'page': '548'}, metadata=FullCaseCitation.Metadata(parenthetical=None, pin_cite=None, year=None, court='scotus', plaintiff=None, defendant=None, extra=None))],\n             Resource(citation=FullCaseCitation('34 S.Ct. 956', groups={'volume': '34', 'reporter': 'S.Ct.', 'page': '956'}, metadata=FullCaseCitation.Metadata(parenthetical=None, pin_cite=None, year=None, court='scotus', plaintiff=None, defendant=None, extra=None))): [FullCaseCitation('34 S.Ct. 956', groups={'volume': '34', 'reporter': 'S.Ct.', 'page': '956'}, metadata=FullCaseCitation.Metadata(parenthetical=None, pin_cite=None, year=None, court='scotus', plaintiff=None, defendant=None, extra=None)),\n              FullCaseCitation('34 S.Ct. 956', groups={'volume': '34', 'reporter': 'S.Ct.', 'page': '956'}, metadata=FullCaseCitation.Metadata(parenthetical=None, pin_cite='959', year=None, court='scotus', plaintiff=None, defendant=None, extra=None)),\n              FullCaseCitation('34 S.Ct. 956', groups={'volume': '34', 'reporter': 'S.Ct.', 'page': '956'}, metadata=FullCaseCitation.Metadata(parenthetical=None, pin_cite=None, year=None, court='scotus', plaintiff=None, defendant=None, extra=None))],\n             Resource(citation=FullCaseCitation('58 L.Ed. 1459', groups={'volume': '58', 'reporter': 'L.Ed.', 'page': '1459'}, metadata=FullCaseCitation.Metadata(parenthetical=None, pin_cite=None, year=None, court=None, plaintiff=None, defendant=None, extra=None))): [FullCaseCitation('58 L.Ed. 1459', groups={'volume': '58', 'reporter': 'L.Ed.', 'page': '1459'}, metadata=FullCaseCitation.Metadata(parenthetical=None, pin_cite=None, year=None, court=None, plaintiff=None, defendant=None, extra=None)),\n              FullCaseCitation('58 L.Ed. 1459', groups={'volume': '58', 'reporter': 'L.Ed.', 'page': '1459'}, metadata=FullCaseCitation.Metadata(parenthetical=None, pin_cite=None, year=None, court=None, plaintiff=None, defendant=None, extra=None)),\n              FullCaseCitation('58 L.Ed. 1459', groups={'volume': '58', 'reporter': 'L.Ed.', 'page': '1459'}, metadata=FullCaseCitation.Metadata(parenthetical=None, pin_cite=None, year=None, court=None, plaintiff=None, defendant=None, extra=None)),\n              FullCaseCitation('58 L.Ed. 1459', groups={'volume': '58', 'reporter': 'L.Ed.', 'page': '1459'}, metadata=FullCaseCitation.Metadata(parenthetical=None, pin_cite=None, year=None, court=None, plaintiff=None, defendant=None, extra=None)),\n              FullCaseCitation('58 L.Ed. 1459', groups={'volume': '58', 'reporter': 'L.Ed.', 'page': '1459'}, metadata=FullCaseCitation.Metadata(parenthetical=None, pin_cite=None, year=None, court=None, plaintiff=None, defendant=None, extra=None))],\n             Resource(citation=FullCaseCitation('308 U.S. 141', groups={'volume': '308', 'reporter': 'U.S.', 'page': '141'}, metadata=FullCaseCitation.Metadata(parenthetical=None, pin_cite=None, year=None, court='scotus', plaintiff='Company', defendant='United States', extra=None))): [FullCaseCitation('308 U.S. 141', groups={'volume': '308', 'reporter': 'U.S.', 'page': '141'}, metadata=FullCaseCitation.Metadata(parenthetical=None, pin_cite=None, year=None, court='scotus', plaintiff='Company', defendant='United States', extra=None)),\n              FullCaseCitation('308 U.S. 141', groups={'volume': '308', 'reporter': 'U.S.', 'page': '141'}, metadata=FullCaseCitation.Metadata(parenthetical=None, pin_cite=None, year=None, court='scotus', plaintiff='Co.', defendant='United States', extra=None)),\n              FullCaseCitation('308 U.S. 141', groups={'volume': '308', 'reporter': 'U.S.', 'page': '141'}, metadata=FullCaseCitation.Metadata(parenthetical=None, pin_cite='146', year=None, court='scotus', plaintiff='Co.', defendant='United States', extra=None))],\n             Resource(citation=FullCaseCitation('60 S.Ct. 160', groups={'volume': '60', 'reporter': 'S.Ct.', 'page': '160'}, metadata=FullCaseCitation.Metadata(parenthetical=None, pin_cite=None, year=None, court='scotus', plaintiff='Company', defendant='United States, 308 U.S. 141', extra=None))): [FullCaseCitation('60 S.Ct. 160', groups={'volume': '60', 'reporter': 'S.Ct.', 'page': '160'}, metadata=FullCaseCitation.Metadata(parenthetical=None, pin_cite=None, year=None, court='scotus', plaintiff='Company', defendant='United States, 308 U.S. 141', extra=None)),\n              FullCaseCitation('60 S.Ct. 160', groups={'volume': '60', 'reporter': 'S.Ct.', 'page': '160'}, metadata=FullCaseCitation.Metadata(parenthetical=None, pin_cite=None, year=None, court='scotus', plaintiff='Co.', defendant='United States, 308 U.S. 141', extra=None)),\n              FullCaseCitation('60 S.Ct. 160', groups={'volume': '60', 'reporter': 'S.Ct.', 'page': '160'}, metadata=FullCaseCitation.Metadata(parenthetical=None, pin_cite='162', year=None, court='scotus', plaintiff='Co.', defendant='United States, 308 U.S. 141, 146', extra=None))],\n             Resource(citation=FullCaseCitation('84 L.Ed. 151', groups={'volume': '84', 'reporter': 'L.Ed.', 'page': '151'}, metadata=FullCaseCitation.Metadata(parenthetical=None, pin_cite=None, year=None, court=None, plaintiff='Company', defendant='United States, 308 U.S. 141, 60 S.Ct. 160', extra=None))): [FullCaseCitation('84 L.Ed. 151', groups={'volume': '84', 'reporter': 'L.Ed.', 'page': '151'}, metadata=FullCaseCitation.Metadata(parenthetical=None, pin_cite=None, year=None, court=None, plaintiff='Company', defendant='United States, 308 U.S. 141, 60 S.Ct. 160', extra=None)),\n              FullCaseCitation('84 L.Ed. 151', groups={'volume': '84', 'reporter': 'L.Ed.', 'page': '151'}, metadata=FullCaseCitation.Metadata(parenthetical=None, pin_cite=None, year=None, court=None, plaintiff='Co.', defendant='United States, 308 U.S. 141, 60 S.Ct. 160', extra=None)),\n              FullCaseCitation('84 L.Ed. 151', groups={'volume': '84', 'reporter': 'L.Ed.', 'page': '151'}, metadata=FullCaseCitation.Metadata(parenthetical=None, pin_cite=None, year=None, court=None, plaintiff=None, defendant=None, extra=None)),\n              FullCaseCitation('84 L.Ed. 151', groups={'volume': '84', 'reporter': 'L.Ed.', 'page': '151'}, metadata=FullCaseCitation.Metadata(parenthetical=None, pin_cite=None, year=None, court=None, plaintiff='Co.', defendant='United States, 308 U.S. 141, 146, 60 S.Ct. 160, 162', extra=None))],\n             Resource(citation=FullLawCitation('34 Stat. 584', groups={'volume': '34', 'reporter': 'Stat.', 'page': '584'}, metadata=FullLawCitation.Metadata(parenthetical=None, pin_cite=None, year=None, publisher=None, day=None, month=None))): [FullLawCitation('34 Stat. 584', groups={'volume': '34', 'reporter': 'Stat.', 'page': '584'}, metadata=FullLawCitation.Metadata(parenthetical=None, pin_cite=None, year=None, publisher=None, day=None, month=None))],\n             Resource(citation=FullLawCitation('41 Stat. 474', groups={'volume': '41', 'reporter': 'Stat.', 'page': '474'}, metadata=FullLawCitation.Metadata(parenthetical=None, pin_cite=None, year=None, publisher=None, day=None, month=None))): [FullLawCitation('41 Stat. 474', groups={'volume': '41', 'reporter': 'Stat.', 'page': '474'}, metadata=FullLawCitation.Metadata(parenthetical=None, pin_cite=None, year=None, publisher=None, day=None, month=None)),\n              FullLawCitation('41 Stat. 474', groups={'volume': '41', 'reporter': 'Stat.', 'page': '474'}, metadata=FullLawCitation.Metadata(parenthetical=None, pin_cite=None, year=None, publisher=None, day=None, month=None))],\n             Resource(citation=FullLawCitation('49 U.S.C. § 304', groups={'title': '49', 'reporter': 'U.S.C.', 'section': '304'}, metadata=FullLawCitation.Metadata(parenthetical=None, pin_cite='(a)(3)', year=None, publisher=None, day=None, month=None))): [FullLawCitation('49 U.S.C. § 304', groups={'title': '49', 'reporter': 'U.S.C.', 'section': '304'}, metadata=FullLawCitation.Metadata(parenthetical=None, pin_cite='(a)(3)', year=None, publisher=None, day=None, month=None))],\n             Resource(citation=FullLawCitation('37 Stat. 701', groups={'volume': '37', 'reporter': 'Stat.', 'page': '701'}, metadata=FullLawCitation.Metadata(parenthetical=None, pin_cite=None, year=None, publisher=None, day=None, month=None))): [FullLawCitation('37 Stat. 701', groups={'volume': '37', 'reporter': 'Stat.', 'page': '701'}, metadata=FullLawCitation.Metadata(parenthetical=None, pin_cite=None, year=None, publisher=None, day=None, month=None))],\n             Resource(citation=FullLawCitation('28 U.S.C.A. §§ 46', groups={'title': '28', 'reporter': 'U.S.C.A.', 'section': '46'}, metadata=FullLawCitation.Metadata(parenthetical=None, pin_cite=None, year=None, publisher=None, day=None, month=None))): [FullLawCitation('28 U.S.C.A. §§ 46', groups={'title': '28', 'reporter': 'U.S.C.A.', 'section': '46'}, metadata=FullLawCitation.Metadata(parenthetical=None, pin_cite=None, year=None, publisher=None, day=None, month=None))],\n             Resource(citation=FullLawCitation('48 Stat. 1102', groups={'volume': '48', 'reporter': 'Stat.', 'page': '1102'}, metadata=FullLawCitation.Metadata(parenthetical=None, pin_cite=None, year=None, publisher=None, day=None, month=None))): [FullLawCitation('48 Stat. 1102', groups={'volume': '48', 'reporter': 'Stat.', 'page': '1102'}, metadata=FullLawCitation.Metadata(parenthetical=None, pin_cite=None, year=None, publisher=None, day=None, month=None))],\n             Resource(citation=FullLawCitation('49 U.S.C. § 1', groups={'title': '49', 'reporter': 'U.S.C.', 'section': '1'}, metadata=FullLawCitation.Metadata(parenthetical=None, pin_cite=None, year=None, publisher=None, day=None, month=None))): [FullLawCitation('49 U.S.C. § 1', groups={'title': '49', 'reporter': 'U.S.C.', 'section': '1'}, metadata=FullLawCitation.Metadata(parenthetical=None, pin_cite=None, year=None, publisher=None, day=None, month=None)),\n              FullLawCitation('49 U.S.C. § 1', groups={'title': '49', 'reporter': 'U.S.C.', 'section': '1'}, metadata=FullLawCitation.Metadata(parenthetical=None, pin_cite=None, year=None, publisher=None, day=None, month=None))],\n             Resource(citation=FullLawCitation('49 U.S.C.A. § 1', groups={'title': '49', 'reporter': 'U.S.C.A.', 'section': '1'}, metadata=FullLawCitation.Metadata(parenthetical=None, pin_cite=None, year=None, publisher=None, day=None, month=None))): [FullLawCitation('49 U.S.C.A. § 1', groups={'title': '49', 'reporter': 'U.S.C.A.', 'section': '1'}, metadata=FullLawCitation.Metadata(parenthetical=None, pin_cite=None, year=None, publisher=None, day=None, month=None)),\n              FullLawCitation('49 U.S.C.A. § 1', groups={'title': '49', 'reporter': 'U.S.C.A.', 'section': '1'}, metadata=FullLawCitation.Metadata(parenthetical=None, pin_cite=None, year=None, publisher=None, day=None, month=None))]})"
     },
     "execution_count": 72,
     "metadata": {},
     "output_type": "execute_result"
    }
   ],
   "source": [],
   "metadata": {
    "collapsed": false,
    "ExecuteTime": {
     "end_time": "2024-02-18T22:21:01.981364Z",
     "start_time": "2024-02-18T22:21:01.964779Z"
    }
   },
   "id": "1178c9acf8ec0639",
   "execution_count": 72
  },
  {
   "cell_type": "code",
   "outputs": [],
   "source": [
    "def span_pairs(item):\n",
    "    match item:\n",
    "        case dict():\n",
    "            for k,v in item.items():\n",
    "                source = span(k)\n",
    "                for item in v:\n",
    "                    yield source,span(item)\n",
    "                    \n",
    "        case _:\n",
    "            yield item\n",
    "        \n",
    "        \n",
    "def span(item):\n",
    "    match item:\n",
    "        case eyecite.models.Resource():\n",
    "            return span(item.citation)\n",
    "        case eyecite.models.CitationBase():\n",
    "            return item.span()"
   ],
   "metadata": {
    "collapsed": false,
    "ExecuteTime": {
     "end_time": "2024-02-18T22:27:53.084313Z",
     "start_time": "2024-02-18T22:27:53.064534Z"
    }
   },
   "id": "15f9ef4923928703",
   "execution_count": 76
  },
  {
   "cell_type": "code",
   "outputs": [],
   "source": [
    "def get_links(text):\n",
    "    citations = eyecite.get_citations(text)\n",
    "    resolved = eyecite.resolve_citations(citations)\n",
    "    links = [dict(target_text=text[target[0]:target[1]],\n",
    "              target_span=target,\n",
    "              source_span=text[source[0]:source[1]],\n",
    "              source=source) for target,source in span_pairs(resolved) if target != source]\n",
    "    return links\n"
   ],
   "metadata": {
    "collapsed": false,
    "ExecuteTime": {
     "end_time": "2024-02-18T22:46:09.414355Z",
     "start_time": "2024-02-18T22:46:09.394335Z"
    }
   },
   "id": "f355151c9850b462",
   "execution_count": 88
  },
  {
   "cell_type": "code",
   "outputs": [
    {
     "name": "stdout",
     "output_type": "stream",
     "text": [
      "[\n",
      "    {\n",
      "        \"target_text\": \"322 U.S. 369\",\n",
      "        \"target_span\": [\n",
      "            1377,\n",
      "            1389\n",
      "        ],\n",
      "        \"source_span\": \"322 U.S. 369\",\n",
      "        \"source\": [\n",
      "            25595,\n",
      "            25607\n",
      "        ]\n",
      "    },\n",
      "    {\n",
      "        \"target_text\": \"64 S.Ct. 1037\",\n",
      "        \"target_span\": [\n",
      "            1391,\n",
      "            1404\n",
      "        ],\n",
      "        \"source_span\": \"64 S.Ct. 1037\",\n",
      "        \"source\": [\n",
      "            25609,\n",
      "            25622\n",
      "        ]\n",
      "    },\n",
      "    {\n",
      "        \"target_text\": \"88 L.Ed. 1331\",\n",
      "        \"target_span\": [\n",
      "            1406,\n",
      "            1419\n",
      "        ],\n",
      "        \"source_span\": \"88 L.Ed. 1331\",\n",
      "        \"source\": [\n",
      "            3328,\n",
      "            3341\n",
      "        ]\n",
      "    },\n",
      "    {\n",
      "        \"target_text\": \"88 L.Ed. 1331\",\n",
      "        \"target_span\": [\n",
      "            1406,\n",
      "            1419\n",
      "        ],\n",
      "        \"source_span\": \"88 L.Ed. 1331\",\n",
      "        \"source\": [\n",
      "            7523,\n",
      "            7536\n",
      "        ]\n",
      "    },\n",
      "    {\n",
      "        \"target_text\": \"88 L.Ed. 1331\",\n",
      "        \"target_span\": [\n",
      "            1406,\n",
      "            1419\n",
      "        ],\n",
      "        \"source_span\": \"88 L.Ed. 1331\",\n",
      "        \"source\": [\n",
      "            25624,\n",
      "            25637\n",
      "        ]\n",
      "    },\n",
      "    {\n",
      "        \"target_text\": \"208 U.S. 393\",\n",
      "        \"target_span\": [\n",
      "            1713,\n",
      "            1725\n",
      "        ],\n",
      "        \"source_span\": \"208 U.S. 393\",\n",
      "        \"source\": [\n",
      "            18650,\n",
      "            18662\n",
      "        ]\n",
      "    },\n",
      "    {\n",
      "        \"target_text\": \"28 S.Ct. 396\",\n",
      "        \"target_span\": [\n",
      "            1727,\n",
      "            1739\n",
      "        ],\n",
      "        \"source_span\": \"28 S.Ct. 396\",\n",
      "        \"source\": [\n",
      "            18664,\n",
      "            18676\n",
      "        ]\n",
      "    },\n",
      "    {\n",
      "        \"target_text\": \"52 L.Ed. 543\",\n",
      "        \"target_span\": [\n",
      "            1741,\n",
      "            1753\n",
      "        ],\n",
      "        \"source_span\": \"52 L.Ed. 543\",\n",
      "        \"source\": [\n",
      "            18678,\n",
      "            18690\n",
      "        ]\n",
      "    },\n",
      "    {\n",
      "        \"target_text\": \"34 Stat. 898\",\n",
      "        \"target_span\": [\n",
      "            1914,\n",
      "            1926\n",
      "        ],\n",
      "        \"source_span\": \"34 Stat. 898\",\n",
      "        \"source\": [\n",
      "            19133,\n",
      "            19145\n",
      "        ]\n",
      "    },\n",
      "    {\n",
      "        \"target_text\": \"242 U.S. 470\",\n",
      "        \"target_span\": [\n",
      "            2478,\n",
      "            2490\n",
      "        ],\n",
      "        \"source_span\": \"242 U.S. 470\",\n",
      "        \"source\": [\n",
      "            9531,\n",
      "            9543\n",
      "        ]\n",
      "    },\n",
      "    {\n",
      "        \"target_text\": \"242 U.S. 470\",\n",
      "        \"target_span\": [\n",
      "            2478,\n",
      "            2490\n",
      "        ],\n",
      "        \"source_span\": \"242 U.S. 470\",\n",
      "        \"source\": [\n",
      "            21503,\n",
      "            21515\n",
      "        ]\n",
      "    },\n",
      "    {\n",
      "        \"target_text\": \"242 U.S. 470\",\n",
      "        \"target_span\": [\n",
      "            2478,\n",
      "            2490\n",
      "        ],\n",
      "        \"source_span\": \"242 U.S. 470\",\n",
      "        \"source\": [\n",
      "            23003,\n",
      "            23015\n",
      "        ]\n",
      "    },\n",
      "    {\n",
      "        \"target_text\": \"37 S.Ct. 192\",\n",
      "        \"target_span\": [\n",
      "            2492,\n",
      "            2504\n",
      "        ],\n",
      "        \"source_span\": \"37 S.Ct. 192\",\n",
      "        \"source\": [\n",
      "            9545,\n",
      "            9557\n",
      "        ]\n",
      "    },\n",
      "    {\n",
      "        \"target_text\": \"37 S.Ct. 192\",\n",
      "        \"target_span\": [\n",
      "            2492,\n",
      "            2504\n",
      "        ],\n",
      "        \"source_span\": \"37 S.Ct. 192\",\n",
      "        \"source\": [\n",
      "            21517,\n",
      "            21529\n",
      "        ]\n",
      "    },\n",
      "    {\n",
      "        \"target_text\": \"61 L.Ed. 442\",\n",
      "        \"target_span\": [\n",
      "            2506,\n",
      "            2518\n",
      "        ],\n",
      "        \"source_span\": \"61 L.Ed. 442\",\n",
      "        \"source\": [\n",
      "            9559,\n",
      "            9571\n",
      "        ]\n",
      "    },\n",
      "    {\n",
      "        \"target_text\": \"61 L.Ed. 442\",\n",
      "        \"target_span\": [\n",
      "            2506,\n",
      "            2518\n",
      "        ],\n",
      "        \"source_span\": \"61 L.Ed. 442\",\n",
      "        \"source\": [\n",
      "            21531,\n",
      "            21543\n",
      "        ]\n",
      "    },\n",
      "    {\n",
      "        \"target_text\": \"61 L.Ed. 442\",\n",
      "        \"target_span\": [\n",
      "            2506,\n",
      "            2518\n",
      "        ],\n",
      "        \"source_span\": \"61 L.Ed. 442\",\n",
      "        \"source\": [\n",
      "            27323,\n",
      "            27335\n",
      "        ]\n",
      "    },\n",
      "    {\n",
      "        \"target_text\": \"98 U.S. 145\",\n",
      "        \"target_span\": [\n",
      "            4759,\n",
      "            4770\n",
      "        ],\n",
      "        \"source_span\": \"98 U.S. 145\",\n",
      "        \"source\": [\n",
      "            25100,\n",
      "            25111\n",
      "        ]\n",
      "    },\n",
      "    {\n",
      "        \"target_text\": \"25 L.Ed. 244\",\n",
      "        \"target_span\": [\n",
      "            4777,\n",
      "            4789\n",
      "        ],\n",
      "        \"source_span\": \"25 L.Ed. 244\",\n",
      "        \"source\": [\n",
      "            25113,\n",
      "            25125\n",
      "        ]\n",
      "    },\n",
      "    {\n",
      "        \"target_text\": \"227 U.S. 326\",\n",
      "        \"target_span\": [\n",
      "            6964,\n",
      "            6976\n",
      "        ],\n",
      "        \"source_span\": \"227 U.S. 326\",\n",
      "        \"source\": [\n",
      "            25971,\n",
      "            25983\n",
      "        ]\n",
      "    },\n",
      "    {\n",
      "        \"target_text\": \"33 S.Ct. 285\",\n",
      "        \"target_span\": [\n",
      "            6978,\n",
      "            6990\n",
      "        ],\n",
      "        \"source_span\": \"33 S.Ct. 285\",\n",
      "        \"source\": [\n",
      "            25985,\n",
      "            25997\n",
      "        ]\n",
      "    },\n",
      "    {\n",
      "        \"target_text\": \"57 L.Ed. 528\",\n",
      "        \"target_span\": [\n",
      "            6992,\n",
      "            7004\n",
      "        ],\n",
      "        \"source_span\": \"57 L.Ed. 528\",\n",
      "        \"source\": [\n",
      "            25999,\n",
      "            26011\n",
      "        ]\n",
      "    },\n",
      "    {\n",
      "        \"target_text\": \"58 L.Ed. 728\",\n",
      "        \"target_span\": [\n",
      "            7079,\n",
      "            7091\n",
      "        ],\n",
      "        \"source_span\": \"58 L.Ed. 728\",\n",
      "        \"source\": [\n",
      "            8136,\n",
      "            8148\n",
      "        ]\n",
      "    },\n",
      "    {\n",
      "        \"target_text\": \"18 U.S.C.A. \\u00a7 513\",\n",
      "        \"target_span\": [\n",
      "            20083,\n",
      "            20100\n",
      "        ],\n",
      "        \"source_span\": \"Ibid.\",\n",
      "        \"source\": [\n",
      "            21173,\n",
      "            21178\n",
      "        ]\n",
      "    },\n",
      "    {\n",
      "        \"target_text\": \"133 F.2d 595\",\n",
      "        \"target_span\": [\n",
      "            24391,\n",
      "            24403\n",
      "        ],\n",
      "        \"source_span\": \"133 F.2d 595\",\n",
      "        \"source\": [\n",
      "            25430,\n",
      "            25442\n",
      "        ]\n",
      "    },\n",
      "    {\n",
      "        \"target_text\": \"324 U.S. 193\",\n",
      "        \"target_span\": [\n",
      "            25525,\n",
      "            25537\n",
      "        ],\n",
      "        \"source_span\": \"324 U.S. 193\",\n",
      "        \"source\": [\n",
      "            27477,\n",
      "            27489\n",
      "        ]\n",
      "    },\n",
      "    {\n",
      "        \"target_text\": \"65 S.Ct. 602\",\n",
      "        \"target_span\": [\n",
      "            25539,\n",
      "            25551\n",
      "        ],\n",
      "        \"source_span\": \"65 S.Ct. 602\",\n",
      "        \"source\": [\n",
      "            27501,\n",
      "            27513\n",
      "        ]\n",
      "    },\n",
      "    {\n",
      "        \"target_text\": \"89 L.Ed. 865\",\n",
      "        \"target_span\": [\n",
      "            25553,\n",
      "            25565\n",
      "        ],\n",
      "        \"source_span\": \"89 L.Ed. 865\",\n",
      "        \"source\": [\n",
      "            27520,\n",
      "            27532\n",
      "        ]\n",
      "    }\n",
      "]\n"
     ]
    }
   ],
   "source": [
    "print(json.dumps(get_links(df_train['text'][2]),indent=4))"
   ],
   "metadata": {
    "collapsed": false,
    "ExecuteTime": {
     "end_time": "2024-02-18T22:48:51.507293Z",
     "start_time": "2024-02-18T22:48:51.393985Z"
    }
   },
   "id": "4ebd54e45899b335",
   "execution_count": 93
  },
  {
   "cell_type": "code",
   "outputs": [],
   "source": [],
   "metadata": {
    "collapsed": false
   },
   "id": "f7f9eb93461ac1f8"
  }
 ],
 "metadata": {
  "kernelspec": {
   "display_name": "Python 3",
   "language": "python",
   "name": "python3"
  },
  "language_info": {
   "codemirror_mode": {
    "name": "ipython",
    "version": 2
   },
   "file_extension": ".py",
   "mimetype": "text/x-python",
   "name": "python",
   "nbconvert_exporter": "python",
   "pygments_lexer": "ipython2",
   "version": "2.7.6"
  }
 },
 "nbformat": 4,
 "nbformat_minor": 5
}
